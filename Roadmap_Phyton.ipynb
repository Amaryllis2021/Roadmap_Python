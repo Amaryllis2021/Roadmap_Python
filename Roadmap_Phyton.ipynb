{
  "nbformat": 4,
  "nbformat_minor": 0,
  "metadata": {
    "colab": {
      "provenance": [],
      "authorship_tag": "ABX9TyNgoRnuPi/Q7gpNMsgHgThx"
    },
    "kernelspec": {
      "name": "python3",
      "display_name": "Python 3"
    },
    "language_info": {
      "name": "python"
    }
  },
  "cells": [
    {
      "cell_type": "markdown",
      "source": [
        "\n",
        "***Python***\n",
        "\n",
        "Python is a high-level, interpreted, general-purpose programming language. Its design philosophy emphasizes code readability with the use of significant indentation. Python is dynamically-typed and garbage-collected.\n",
        "\n",
        "**Note**\n",
        "This roadmap specifically covers Python and the ecosystem around it. You will notice that it is missing things like version control, databases, software design, architecture and other things that are not directly related to Python; this is intentional. Have a look at the Backend Roadmap for a more comprehensive overview of the backend ecosystem. FOR MORE INFORMATIONS, CLICK HERE: https://roadmap.sh/python\n",
        "\n",
        "**Introduction:**\n",
        "\n",
        "Welcome to the world of Python! In this tutorial, we will learn the basic syntax of Python and set up our environment to get started with coding in Python.\n",
        "\n",
        "**Setting up the environment:**\n",
        "\n",
        "To start coding in Python, you need to have Python installed on your computer. You can download Python from the official website (python.org). Once you have installed Python, you need to set up a development environment. There are several options available, such as IDLE (Integrated Development and Learning Environment), PyCharm, or Jupyter Notebook. Choose the one that works best for you and start coding!"
      ],
      "metadata": {
        "id": "DuP331LdfDxU"
      }
    },
    {
      "cell_type": "markdown",
      "source": [
        "**Basic Syntax:**\n",
        "\n",
        "1. **Indentation:** Python uses indentation to define blocks of code, unlike other programming languages that use curly braces or keywords. Indentation is mandatory in Python, and it is used to define the scope of a block of code.\n",
        "\n",
        "2. **Variables:** In Python, you don't have to declare a type for a variable. You can assign a value to a variable using the assignment operator (=). For example:"
      ],
      "metadata": {
        "id": "Dn3_6Qdgn62U"
      }
    },
    {
      "cell_type": "code",
      "source": [
        "    x = 5\n",
        "    y = \"Hello, World!\"\n"
      ],
      "metadata": {
        "id": "S5CLiutNoCH-"
      },
      "execution_count": null,
      "outputs": []
    },
    {
      "cell_type": "markdown",
      "source": [
        "3. **Data Types:** Python has several built-in data types, including numbers, strings, lists, and dictionaries. For example:"
      ],
      "metadata": {
        "id": "RWAbNaHirh6Q"
      }
    },
    {
      "cell_type": "code",
      "source": [
        "    x = 5 # integer\n",
        "    y = 5.0 # float\n",
        "    z = \"Hello, World!\" # string\n",
        "    a = [1, 2, 3] # list\n",
        "    b = {'key': 'value'} # dictionary\n"
      ],
      "metadata": {
        "id": "zrOhL0berpWN"
      },
      "execution_count": null,
      "outputs": []
    },
    {
      "cell_type": "markdown",
      "source": [],
      "metadata": {
        "id": "OVLrM_sfr3c2"
      }
    },
    {
      "cell_type": "markdown",
      "source": [
        "4. **Operators:** Python has various operators for arithmetic, comparison, and logical operations. For example:"
      ],
      "metadata": {
        "id": "Vq9v9mspr_H-"
      }
    },
    {
      "cell_type": "code",
      "source": [
        "    x = 5\n",
        "    y = 3\n",
        "    print(x + y) # 8\n",
        "    print(x > y) # True\n",
        "    print(x and y) # 3\n"
      ],
      "metadata": {
        "id": "9P4MsysFsKdN"
      },
      "execution_count": null,
      "outputs": []
    },
    {
      "cell_type": "markdown",
      "source": [
        "5.**Control Flow:** Python uses indentation and keywords such as if, elif, and else to control the flow of the program. For example:"
      ],
      "metadata": {
        "id": "VuiLkxtzsH7l"
      }
    },
    {
      "cell_type": "code",
      "source": [
        "\n",
        "    x = 5\n",
        "    y = 3\n",
        "    if x > y:\n",
        "        print(\"x is greater than y\")\n",
        "    elif x == y:\n",
        "        print(\"x is equal to y\")\n",
        "    else:\n",
        "        print(\"x is less than y\")\n",
        "\n",
        "#Conclusion:\n",
        "\n",
        "#That's it! You now have a basic understanding of the syntax of Python. You can start coding and experimenting with different concepts and data structures in Python. Have fun!"
      ],
      "metadata": {
        "id": "Zjts5NzvsIVM"
      },
      "execution_count": null,
      "outputs": []
    },
    {
      "cell_type": "markdown",
      "source": [
        "**Variables**\n",
        "Variables are used to store information to be referenced and manipulated in a computer program. They also provide a way of labeling data with a descriptive name, so our programs can be understood more clearly by the reader and ourselves. It is helpful to think of variables as containers that hold information. Their sole purpose is to label and store data in memory. This data can then be used throughout your program.\n",
        "\n",
        "**Introduction:**\n",
        "\n",
        "In this tutorial, we will learn about variables in Python and how to use them effectively in our programs. Variables are an essential part of any programming language, and they provide a way of labeling and storing data in memory.\n",
        "\n",
        "**Step 1:** Creating a Variable\n",
        "\n",
        "In Python, you can create a variable by assigning a value to it. The syntax for creating a variable is as follows:"
      ],
      "metadata": {
        "id": "TsBgg5NotkA9"
      }
    },
    {
      "cell_type": "code",
      "source": [
        "variable_name = value\n"
      ],
      "metadata": {
        "id": "CXyIYbKEtkh0"
      },
      "execution_count": null,
      "outputs": []
    },
    {
      "cell_type": "markdown",
      "source": [
        "For example, to create a variable named x and assign the value 5 to it, you can use the following code:"
      ],
      "metadata": {
        "id": "J9VMcZfduhdd"
      }
    },
    {
      "cell_type": "code",
      "source": [
        "x = 5\n"
      ],
      "metadata": {
        "id": "Fbjw05nvuh-b"
      },
      "execution_count": null,
      "outputs": []
    },
    {
      "cell_type": "markdown",
      "source": [
        "**Step 2:** Naming Conventions\n",
        "\n",
        "When naming a variable, there are a few rules to keep in mind:\n",
        "\n",
        "Variable names can only contain letters, numbers, and underscores.\n",
        "Variable names cannot start with a number.\n",
        "Variable names are case sensitive, meaning that x and X are considered two different variables.\n",
        "It is recommended to use descriptive names for your variables, and to use snake_case (lowercase words separated by underscores) instead of CamelCase or PascalCase."
      ],
      "metadata": {
        "id": "G3bW9tzkupf7"
      }
    },
    {
      "cell_type": "markdown",
      "source": [
        "**Step 3:** Data Types\n",
        "\n",
        "In Python, you don't have to declare the type of a variable. The type of a variable is determined by the value you assign to it. Some of the most common data types in Python include:\n",
        "\n",
        "int (integers)\n",
        "float (floating-point numbers)\n",
        "str (strings)\n",
        "list (ordered collections of values)\n",
        "dict (unordered collections of key-value pairs)\n",
        "For example, to create a string variable, you can use the following code:"
      ],
      "metadata": {
        "id": "tDX3dETZwNQ7"
      }
    },
    {
      "cell_type": "code",
      "source": [
        "message = \"Hello, World!\"\n"
      ],
      "metadata": {
        "id": "Eh5UYMmiup6c"
      },
      "execution_count": null,
      "outputs": []
    },
    {
      "cell_type": "markdown",
      "source": [
        "**Step 4:** Modifying Variables\n",
        "\n",
        "Once you have created a variable, you can modify its value at any time by reassigning it to a new value. For example:"
      ],
      "metadata": {
        "id": "FP1yz9ZuwZdj"
      }
    },
    {
      "cell_type": "code",
      "source": [
        "x = 5\n",
        "x = 10\n",
        "#In this example, the value of x has been changed from 5 to 10."
      ],
      "metadata": {
        "id": "j2-Xpm1owiAj"
      },
      "execution_count": null,
      "outputs": []
    },
    {
      "cell_type": "markdown",
      "source": [
        "**Step 5:** Using Variables\n",
        "\n",
        "Variables can be used in many different ways in your program, including in expressions and control structures. For example:\n"
      ],
      "metadata": {
        "id": "Kxtgu55cwZ9L"
      }
    },
    {
      "cell_type": "code",
      "source": [
        "x = 5\n",
        "y = 10\n",
        "result = x + y\n",
        "print(result) # Output: 15\n",
        "\n",
        "#In this example, the variables x and y are used in an expression to add their values together, and the result is stored in a new variable called result."
      ],
      "metadata": {
        "colab": {
          "base_uri": "https://localhost:8080/"
        },
        "id": "-wOPJTnDw4GN",
        "outputId": "6876b62b-8648-48f7-a70b-3cdd81fd4ab1"
      },
      "execution_count": null,
      "outputs": [
        {
          "output_type": "stream",
          "name": "stdout",
          "text": [
            "15\n"
          ]
        }
      ]
    },
    {
      "cell_type": "markdown",
      "source": [
        "**Conclusion:**\n",
        "\n",
        "In conclusion, variables are a fundamental part of any programming language, and they provide a way of labeling and storing data in memory. By understanding how to create, name, and modify variables, you will be well on your way to becoming a proficient Python programmer.\n",
        "\n",
        "\n",
        "\n",
        "\n"
      ],
      "metadata": {
        "id": "mzafNqhhw-mz"
      }
    },
    {
      "cell_type": "markdown",
      "source": [
        "**Conditionals**\n",
        "\n",
        "Conditional Statements in Python perform different actions depending on whether a specific condition evaluates to true or false. Conditional Statements are handled by IF-ELIF-ELSE statements and MATCH-CASE statements in Python.\n",
        "\n",
        "**Introduction:**\n",
        "\n",
        "In this tutorial, we will learn about conditional statements in Python and how to use them effectively in our programs. Conditional statements allow us to make decisions in our code, based on whether a certain condition is true or false.\n",
        "\n",
        "**Step 1: The IF Statement**\n",
        "\n",
        "The most basic form of a conditional statement in Python is the if statement. The syntax for an if statement is as follows:"
      ],
      "metadata": {
        "id": "7s9k83WHxQde"
      }
    },
    {
      "cell_type": "code",
      "source": [
        "if condition:\n",
        "    # do something\n"
      ],
      "metadata": {
        "id": "wjcQrCQEyd7-"
      },
      "execution_count": null,
      "outputs": []
    },
    {
      "cell_type": "markdown",
      "source": [
        "The condition in the if statement is any expression that can be evaluated as either True or False. If the condition evaluates to True, the code inside the if block will be executed. If the condition evaluates to False, the code inside the if block will be skipped.\n",
        "\n",
        "For example:"
      ],
      "metadata": {
        "id": "DfguB7_rygVy"
      }
    },
    {
      "cell_type": "code",
      "source": [
        "x = 5\n",
        "if x > 0:\n",
        "    print(\"x is positive\")\n"
      ],
      "metadata": {
        "colab": {
          "base_uri": "https://localhost:8080/"
        },
        "id": "NcarLf4Dyf3q",
        "outputId": "3fc97520-81d7-4d0b-9782-e59262a9cdee"
      },
      "execution_count": null,
      "outputs": [
        {
          "output_type": "stream",
          "name": "stdout",
          "text": [
            "x is positive\n"
          ]
        }
      ]
    },
    {
      "cell_type": "markdown",
      "source": [
        "In this example, the condition x > 0 evaluates to True, so the code inside the if block is executed and the message \"x is positive\" is printed.\n",
        "\n",
        "**Step 2: The ELSE Statement**\n",
        "\n",
        "The else statement is used in conjunction with the if statement, and it specifies what to do if the condition in the if statement evaluates to False. The syntax for an if-else statement is as follows:"
      ],
      "metadata": {
        "id": "QbKFurVHyuyL"
      }
    },
    {
      "cell_type": "code",
      "source": [
        "if condition:\n",
        "    # do something\n",
        "else:\n",
        "    # do something else\n"
      ],
      "metadata": {
        "id": "cJlEMFk1yqcS"
      },
      "execution_count": null,
      "outputs": []
    },
    {
      "cell_type": "markdown",
      "source": [
        "For example:"
      ],
      "metadata": {
        "id": "PMWcaWQOy3WD"
      }
    },
    {
      "cell_type": "code",
      "source": [
        "x = 5\n",
        "if x > 10:\n",
        "    print(\"x is greater than 10\")\n",
        "else:\n",
        "    print(\"x is not greater than 10\")\n"
      ],
      "metadata": {
        "colab": {
          "base_uri": "https://localhost:8080/"
        },
        "id": "OUjJcbRNy8Aj",
        "outputId": "7cdc6aa6-c1cb-4df1-d61c-935b860a7247"
      },
      "execution_count": null,
      "outputs": [
        {
          "output_type": "stream",
          "name": "stdout",
          "text": [
            "x is not greater than 10\n"
          ]
        }
      ]
    },
    {
      "cell_type": "markdown",
      "source": [
        "In this example, the condition x > 10 evaluates to False, so the code inside the else block is executed and the message \"x is not greater than 10\" is printed.\n",
        "\n",
        "**Step 3: The ELIF Statement**\n",
        "\n",
        "The elif statement is used in conjunction with the if and else statements, and it allows us to specify additional conditions to be tested. The syntax for an if-elif-else statement is as follows:"
      ],
      "metadata": {
        "id": "UCEs5CKXzBop"
      }
    },
    {
      "cell_type": "code",
      "source": [
        "if condition1:\n",
        "    # do something\n",
        "elif condition2:\n",
        "    # do something else\n",
        "else:\n",
        "    # do something else\n"
      ],
      "metadata": {
        "id": "j3NJMjnBy-3S"
      },
      "execution_count": null,
      "outputs": []
    },
    {
      "cell_type": "markdown",
      "source": [
        "For example:"
      ],
      "metadata": {
        "id": "tuTp6R-1zRAG"
      }
    },
    {
      "cell_type": "code",
      "source": [
        "x = 5\n",
        "if x > 10:\n",
        "    print(\"x is greater than 10\")\n",
        "elif x > 0:\n",
        "    print(\"x is positive but not greater than 10\")\n",
        "else:\n",
        "    print(\"x is negative\")\n"
      ],
      "metadata": {
        "id": "pXW7PJ4szS9q"
      },
      "execution_count": null,
      "outputs": []
    },
    {
      "cell_type": "markdown",
      "source": [
        "In this example, the first condition x > 10 evaluates to False, so the next condition x > 0 is tested. Since this condition evaluates to True, the code inside the elif block is executed and the message \"x is positive but not greater than 10\" is printed.\n",
        "\n",
        "**Step 4: Nested IF Statements**\n",
        "\n",
        "It is possible to nest one if statement inside another, allowing for more complex decisions to be made in your code. The syntax for a nested if statement is as follows:"
      ],
      "metadata": {
        "id": "OWDe7tD9zSiz"
      }
    },
    {
      "cell_type": "code",
      "source": [
        "if condition1:\n",
        "    # do something\n",
        "    if condition2:\n",
        "        # do something else\n",
        "    else:\n",
        "        # do something else\n",
        "else:\n",
        "    # do something else\n"
      ],
      "metadata": {
        "id": "6XFz5wdKz9XJ"
      },
      "execution_count": null,
      "outputs": []
    },
    {
      "cell_type": "markdown",
      "source": [
        "For example:"
      ],
      "metadata": {
        "id": "7IKKu7pVzVxx"
      }
    },
    {
      "cell_type": "code",
      "source": [
        "x = 5\n",
        "y = 10\n",
        "if x > 0:\n",
        "    print(\"x is positive\")\n",
        "    if y > 0:\n",
        "        print(\"y is positive\")\n",
        "    else:\n",
        "        print(\"y is negative\")\n",
        "else:\n",
        "    print(\"x is negative\")\n",
        "\n",
        "\n"
      ],
      "metadata": {
        "colab": {
          "base_uri": "https://localhost:8080/"
        },
        "id": "-gkUHECn0Wqr",
        "outputId": "b709086e-b554-41dd-cd5e-d5b6a0158789"
      },
      "execution_count": null,
      "outputs": [
        {
          "output_type": "stream",
          "name": "stdout",
          "text": [
            "x is positive\n",
            "y is positive\n"
          ]
        }
      ]
    },
    {
      "cell_type": "markdown",
      "source": [
        "In this example, the first condition x > 0 evaluates to True, so the code inside the first if block is executed and the message \"x is positive\" is printed. Then, the next condition y > 0 is tested, and since it evaluates to True, the message \"y is positive\" is printed.\n",
        "\n",
        "**Conclusion:**\n",
        "\n",
        "In this tutorial, we learned about the different types of conditional statements in Python: the if statement, the else statement, the elif statement, and nested if statements. By using these statements, we can make decisions in our code based on conditions, allowing us to write more sophisticated programs."
      ],
      "metadata": {
        "id": "a3C8Fl0c0eCc"
      }
    },
    {
      "cell_type": "markdown",
      "source": [
        "**Typecasting**\n",
        "The process of converting the value of one data type (integer, string, float, etc.) to another data type is called type conversion. Python has two types of type conversion: Implicit and Explicit. Write a script explaining step by step this statement.\n",
        "\n",
        "Typecasting in Python is the process of converting one data type to another. Python provides both implicit and explicit type casting methods.\n",
        "\n",
        "**Implicit Typecasting:**\n",
        "\n",
        "In implicit typecasting, Python automatically converts one data type to another data type. For example, when a floating-point number is assigned to an integer, Python automatically converts the float to an integer."
      ],
      "metadata": {
        "id": "OK5wj2GV0V4T"
      }
    },
    {
      "cell_type": "code",
      "source": [
        "x = 10.5\n",
        "print(x)\n",
        "print(int(x))\n"
      ],
      "metadata": {
        "colab": {
          "base_uri": "https://localhost:8080/"
        },
        "id": "9fTnY0ky1Qf0",
        "outputId": "bd9009c5-58e4-4636-860c-ef5b679fae88"
      },
      "execution_count": null,
      "outputs": [
        {
          "output_type": "stream",
          "name": "stdout",
          "text": [
            "10.5\n",
            "10\n"
          ]
        }
      ]
    },
    {
      "cell_type": "markdown",
      "source": [
        "In this example, we have assigned the value of 10.5 to the variable x. The first print statement will print 10.5, which is a floating-point number. The second print statement will print 10, which is an integer, obtained by converting the float to an integer using the int() function.\n",
        "\n",
        "**Explicit Typecasting:**\n",
        "\n",
        "In explicit typecasting, we have to specify the data type that we want to convert the value to."
      ],
      "metadata": {
        "id": "0S0utziK1dqt"
      }
    },
    {
      "cell_type": "code",
      "source": [
        "x = '10'\n",
        "print(x)\n",
        "print(int(x))\n"
      ],
      "metadata": {
        "id": "IlCWBFfS1jAi"
      },
      "execution_count": null,
      "outputs": []
    },
    {
      "cell_type": "markdown",
      "source": [
        "In this example, the value '10' is a string and is assigned to the variable x. The first print statement will print '10', which is a string. The second print statement will print 10, which is an integer, obtained by converting the string to an integer using the int() function.\n",
        "\n",
        "**Conclusion:**\n",
        "\n",
        "In this tutorial, we learned about typecasting in Python. Typecasting is the process of converting one data type to another in Python. Python provides both implicit and explicit typecasting methods. Implicit typecasting is automatically done by Python, while explicit typecasting is done by specifying the data type that we want to convert the value to."
      ],
      "metadata": {
        "id": "gF-J29pS1nIs"
      }
    },
    {
      "cell_type": "markdown",
      "source": [
        "**Functions**\n",
        "\n",
        "In programming, a function is a reusable block of code that executes a certain functionality when it is called. Functions are integral parts of every programming language because they help make your code more modular and reusable.\n",
        "\n",
        "In Python, you define a function with the def keyword, then write the function identifier (name) followed by parentheses and a colon. Write a script explaining step by step this statement.\n",
        "\n",
        "A function in Python is a reusable block of code that performs a specific task. Functions are used to encapsulate and modularize code, making it easier to understand, reuse, and modify.\n",
        "\n",
        "Here is a step by step tutorial on how to create and use functions in Python:\n",
        "\n",
        "Defining a Function:\n",
        "To define a function in Python, use the def keyword followed by the function name and a pair of parentheses (). The function body is indented and starts with a colon :"
      ],
      "metadata": {
        "id": "MP8ugwcK13Zr"
      }
    },
    {
      "cell_type": "code",
      "source": [
        "def say_hello():\n",
        "    print(\"Hello, World!\")\n"
      ],
      "metadata": {
        "id": "skBs5RNV12qK"
      },
      "execution_count": null,
      "outputs": []
    },
    {
      "cell_type": "markdown",
      "source": [
        "Calling a Function:\n",
        "To call a function, simply use the function name followed by a pair of parentheses ()."
      ],
      "metadata": {
        "id": "K94RqkAo2dqS"
      }
    },
    {
      "cell_type": "code",
      "source": [
        "say_hello()\n"
      ],
      "metadata": {
        "colab": {
          "base_uri": "https://localhost:8080/"
        },
        "id": "aC5qM9d92jvA",
        "outputId": "26751944-5b2b-4009-dcbc-a1a9e65fcfa0"
      },
      "execution_count": null,
      "outputs": [
        {
          "output_type": "stream",
          "name": "stdout",
          "text": [
            "Hello, World!\n"
          ]
        }
      ]
    },
    {
      "cell_type": "markdown",
      "source": [
        "**Function Parameters:**\n",
        "Functions can accept parameters, which are values passed to the function when it is called. The parameters are defined inside the parentheses () after the function name."
      ],
      "metadata": {
        "id": "fopl1CFl2ldc"
      }
    },
    {
      "cell_type": "code",
      "source": [
        "def say_hello(name):\n",
        "    print(\"Hello, \" + name + \"!\")\n",
        "\n",
        "say_hello(\"John\")\n"
      ],
      "metadata": {
        "colab": {
          "base_uri": "https://localhost:8080/"
        },
        "id": "PWs3oYAK2wfu",
        "outputId": "b9dd801e-bdef-4793-b163-92da78a03825"
      },
      "execution_count": null,
      "outputs": [
        {
          "output_type": "stream",
          "name": "stdout",
          "text": [
            "Hello, John!\n"
          ]
        }
      ]
    },
    {
      "cell_type": "markdown",
      "source": [
        "**Return Statement:**\n",
        "A function can return a value to the calling code by using the return statement.\n",
        "\n"
      ],
      "metadata": {
        "id": "Hev2ZcEf2-RC"
      }
    },
    {
      "cell_type": "code",
      "source": [
        "def add(a, b):\n",
        "    return a + b\n",
        "\n",
        "result = add(5, 10)\n",
        "print(result)\n"
      ],
      "metadata": {
        "colab": {
          "base_uri": "https://localhost:8080/"
        },
        "id": "ueg4MlkK3GYb",
        "outputId": "f6568eb6-8817-49a7-b9fc-7724995927f9"
      },
      "execution_count": null,
      "outputs": [
        {
          "output_type": "stream",
          "name": "stdout",
          "text": [
            "15\n"
          ]
        }
      ]
    },
    {
      "cell_type": "markdown",
      "source": [
        "**Conclusion:**\n",
        "\n",
        "In this tutorial, we learned about functions in Python. Functions are a fundamental building block of Python and every programming language, as they allow you to encapsulate and reuse code. To create a function in Python, use the def keyword followed by the function name and a pair of parentheses (). To call a function, simply use the function name followed by a pair of parentheses (). Functions can accept parameters and return values to the calling code."
      ],
      "metadata": {
        "id": "PiBpMXZ_3LCq"
      }
    },
    {
      "cell_type": "markdown",
      "source": [
        "**Lists, Tuples, Sets, and Dictionaries**\n",
        "\n",
        "**Lists:** are just like dynamic sized arrays, declared in other languages (vector in C++ and ArrayList in Java). Lists need not be homogeneous always which makes it the most powerful tool in Python.\n",
        "\n",
        "**Tuple:** A Tuple is a collection of Python objects separated by commas. In some ways, a tuple is similar to a list in terms of indexing, nested objects, and repetition but a tuple is immutable, unlike lists that are mutable.\n",
        "\n",
        "**Set:** A Set is an unordered collection data type that is iterable, mutable, and has no duplicate elements. Python’s set class represents the mathematical notion of a set.\n",
        "\n",
        "**Dictionary:** In python, Dictionary is an ordered (since Py 3.7) [unordered (Py 3.6 & prior)] collection of data values, used to store data values like a map, which, unlike other Data Types that hold only a single value as an element, Dictionary holds key:value pair. Key-value is provided in the dictionary to make it more optimized."
      ],
      "metadata": {
        "id": "aE3OcXFU3nkE"
      }
    },
    {
      "cell_type": "markdown",
      "source": [
        "In Python, there are several data structures used to store collections of items. They are: Lists, Tuples, Sets, and Dictionaries.\n",
        "\n",
        "Here is a step by step tutorial on each of these data structures:\n",
        "\n",
        "**Lists:***\n",
        "Lists are ordered, mutable, and can contain elements of any type. Lists are defined by square brackets [] and items are separated by commas."
      ],
      "metadata": {
        "id": "ekOwd_ex4KMl"
      }
    },
    {
      "cell_type": "code",
      "source": [
        "fruits = [\"apple\", \"banana\", \"cherry\"]\n",
        "print(fruits)\n"
      ],
      "metadata": {
        "colab": {
          "base_uri": "https://localhost:8080/"
        },
        "id": "YyE5Fguk3Q4Z",
        "outputId": "8db2348a-dda8-4c1f-fd6e-db03cdc8d764"
      },
      "execution_count": null,
      "outputs": [
        {
          "output_type": "stream",
          "name": "stdout",
          "text": [
            "['apple', 'banana', 'cherry']\n"
          ]
        }
      ]
    },
    {
      "cell_type": "markdown",
      "source": [
        "**Tuples:**\n",
        "\n",
        "Tuples are ordered, immutable, and can contain elements of any type. Tuples are defined by parentheses () and items are separated by commas."
      ],
      "metadata": {
        "id": "dJmU2fjV4U-h"
      }
    },
    {
      "cell_type": "code",
      "source": [
        "fruits = (\"apple\", \"banana\", \"cherry\")\n",
        "print(fruits)\n"
      ],
      "metadata": {
        "colab": {
          "base_uri": "https://localhost:8080/"
        },
        "id": "nmifHiiI4dQ8",
        "outputId": "e9e5bd3d-91c3-4425-da0c-8cd1a9abde05"
      },
      "execution_count": null,
      "outputs": [
        {
          "output_type": "stream",
          "name": "stdout",
          "text": [
            "('apple', 'banana', 'cherry')\n"
          ]
        }
      ]
    },
    {
      "cell_type": "markdown",
      "source": [
        "**Sets:**\n",
        "Sets are unordered, mutable, and do not allow duplicates. Sets are defined by curly braces {} and items are separated by commas."
      ],
      "metadata": {
        "id": "XkjRmUMy4oai"
      }
    },
    {
      "cell_type": "code",
      "source": [
        "fruits = {\"apple\", \"banana\", \"cherry\"}\n",
        "print(fruits)\n"
      ],
      "metadata": {
        "colab": {
          "base_uri": "https://localhost:8080/"
        },
        "id": "7skpkzT14tlZ",
        "outputId": "2ccf5b4b-0189-42a2-a3a5-4738ee610824"
      },
      "execution_count": null,
      "outputs": [
        {
          "output_type": "stream",
          "name": "stdout",
          "text": [
            "{'apple', 'cherry', 'banana'}\n"
          ]
        }
      ]
    },
    {
      "cell_type": "markdown",
      "source": [
        "**Dictionaries:**\n",
        "\n",
        "Dictionaries are unordered, mutable, and consist of key-value pairs. Dictionaries are defined by curly braces {} and items are separated by commas. The keys are used to access the values."
      ],
      "metadata": {
        "id": "z81DYN7D46Rz"
      }
    },
    {
      "cell_type": "code",
      "source": [
        "fruits = {\"apple\": 1, \"banana\": 2, \"cherry\": 3}\n",
        "print(fruits[\"apple\"])\n"
      ],
      "metadata": {
        "colab": {
          "base_uri": "https://localhost:8080/"
        },
        "id": "mcbkiFhW4_JZ",
        "outputId": "49a23c4e-89eb-443c-8658-1f98a64a99ce"
      },
      "execution_count": null,
      "outputs": [
        {
          "output_type": "stream",
          "name": "stdout",
          "text": [
            "1\n"
          ]
        }
      ]
    },
    {
      "cell_type": "markdown",
      "source": [
        "**Conclusion:**\n",
        "\n",
        "In this tutorial, we learned about the different data structures in Python: Lists, Tuples, Sets, and Dictionaries. Lists are ordered, mutable, and can contain elements of any type. Tuples are ordered, immutable, and can contain elements of any type. Sets are unordered, mutable, and do not allow duplicates. Dictionaries are unordered, mutable, and consist of key-value pairs. Understanding and using these data structures is an essential part of Python programming."
      ],
      "metadata": {
        "id": "S22iZ8g45JQC"
      }
    },
    {
      "cell_type": "markdown",
      "source": [
        "**1. Data Structures and Algorithms**\n",
        "\n",
        "A data structure is a named location that can be used to store and organize data. And, an algorithm is a collection of steps to solve a particular problem. Learning data structures and algorithms allow us to write efficient and optimized computer programs. Write a script explaining step by step this statement."
      ],
      "metadata": {
        "id": "RXwDP2ZM5Ofx"
      }
    },
    {
      "cell_type": "code",
      "source": [
        "fruits = [\"apple\", \"banana\", \"cherry\"]\n",
        "print(fruits)\n"
      ],
      "metadata": {
        "colab": {
          "base_uri": "https://localhost:8080/"
        },
        "id": "pTDSuTFe5Yz5",
        "outputId": "c63dfe1a-ecbe-4ced-83b9-ef355180062b"
      },
      "execution_count": null,
      "outputs": [
        {
          "output_type": "stream",
          "name": "stdout",
          "text": [
            "['apple', 'banana', 'cherry']\n"
          ]
        }
      ]
    },
    {
      "cell_type": "markdown",
      "source": [
        "**2. Algorithms:**\n",
        "\n",
        "An algorithm is a collection of steps to solve a particular problem. There are several types of algorithms, including: sorting algorithms, searching algorithms, and graph algorithms.\n",
        "\n",
        "Here's an example of a sorting algorithm in Python:"
      ],
      "metadata": {
        "id": "Sw0I-Osn5rFQ"
      }
    },
    {
      "cell_type": "code",
      "source": [
        "def bubble_sort(list):\n",
        "    n = len(list)\n",
        " \n",
        "    for i in range(n):\n",
        "        for j in range(0, n - i - 1):\n",
        "            if list[j] > list[j + 1]:\n",
        "                list[j], list[j + 1] = list[j + 1], list[j]\n",
        "    return list\n",
        " \n",
        "list = [64, 34, 25, 12, 22, 11, 90]\n",
        "print(\"Sorted array is:\", bubble_sort(list))\n"
      ],
      "metadata": {
        "colab": {
          "base_uri": "https://localhost:8080/"
        },
        "id": "cnsnPWGp54vZ",
        "outputId": "3e2c2943-1a29-4a1f-d971-4384d69a8ac9"
      },
      "execution_count": null,
      "outputs": [
        {
          "output_type": "stream",
          "name": "stdout",
          "text": [
            "Sorted array is: [11, 12, 22, 25, 34, 64, 90]\n"
          ]
        }
      ]
    },
    {
      "cell_type": "markdown",
      "source": [
        "**Conclusion:**\n",
        "In this tutorial, we learned about Data Structures and Algorithms in Python. Data Structures are named locations that can be used to store and organize data. Algorithms are collections of steps to solve a particular problem. Understanding and using data structures and algorithms is an essential part of Python programming. By learning data structures and algorithms, we can write efficient and optimized computer programs that can solve complex problems."
      ],
      "metadata": {
        "id": "hXS6L8BG6FEM"
      }
    },
    {
      "cell_type": "markdown",
      "source": [
        "Here's an example of a linear search algorithm in Python:"
      ],
      "metadata": {
        "id": "kYApT9-m530p"
      }
    },
    {
      "cell_type": "code",
      "source": [
        "def linear_search(list, target):\n",
        "    for i in range(len(list)):\n",
        "        if list[i] == target:\n",
        "            return i\n",
        "    return -1\n",
        "\n",
        "list = [10, 20, 80, 30, 60, 50, 110, 100, 130, 170]\n",
        "target = 110\n",
        "result = linear_search(list, target)\n",
        "\n",
        "if result != -1:\n",
        "    print(\"Element is present at index\", str(result))\n",
        "else:\n",
        "    print(\"Element is not present in the list\")\n"
      ],
      "metadata": {
        "colab": {
          "base_uri": "https://localhost:8080/"
        },
        "id": "wKMsGIms6u3p",
        "outputId": "23e64fec-c145-4c50-db1d-8a18a63bbe0d"
      },
      "execution_count": null,
      "outputs": [
        {
          "output_type": "stream",
          "name": "stdout",
          "text": [
            "Element is present at index 6\n"
          ]
        }
      ]
    },
    {
      "cell_type": "markdown",
      "source": [
        "In this example, we define a function linear_search() that takes a list and a target value as input and returns the index of the target value if it is present in the list. If the target value is not present in the list, the function returns -1. In the main code, we create a list of integers and a target value. Then we call the linear_search() function and store the result in the result variable. If the result is not equal to -1, it means the target value is present in the list, and we print the index of the target value. If the result is equal to -1, it means the target value is not present in the list, and we print a message saying so.\n"
      ],
      "metadata": {
        "id": "-uhcDxht4bc4"
      }
    },
    {
      "cell_type": "markdown",
      "source": [
        "Here's an example of a breadth-first search algorithm for a graph in Python:"
      ],
      "metadata": {
        "id": "0dWghq8k6-4x"
      }
    },
    {
      "cell_type": "code",
      "source": [
        "from collections import defaultdict\n",
        "\n",
        "class Graph:\n",
        "    def __init__(self):\n",
        "        self.graph = defaultdict(list)\n",
        "\n",
        "    def addEdge(self, u, v):\n",
        "        self.graph[u].append(v)\n",
        "\n",
        "    def BFS(self, s):\n",
        "        visited = [False] * (len(self.graph) + 1)\n",
        "        queue = []\n",
        "        queue.append(s)\n",
        "        visited[s] = True\n",
        "\n",
        "        while queue:\n",
        "            s = queue.pop(0)\n",
        "            print(s, end=\" \")\n",
        "\n",
        "            for i in self.graph[s]:\n",
        "                if not visited[i]:\n",
        "                    queue.append(i)\n",
        "                    visited[i] = True\n",
        "\n",
        "g = Graph()\n",
        "g.addEdge(0, 1)\n",
        "g.addEdge(0, 2)\n",
        "g.addEdge(1, 2)\n",
        "g.addEdge(2, 0)\n",
        "g.addEdge(2, 3)\n",
        "g.addEdge(3, 3)\n",
        "\n",
        "print(\"Following is Breadth First Traversal (starting from vertex 2)\")\n",
        "g.BFS(2)\n"
      ],
      "metadata": {
        "id": "2wcGhtmM72QJ"
      },
      "execution_count": null,
      "outputs": []
    },
    {
      "cell_type": "markdown",
      "source": [
        "**Practical Applications of Linear Algorithms in Python:**\n",
        "\n",
        "Array Searching: Linear algorithms can be used to search for elements in an array. For example, you can use a linear search algorithm to search for a specific element in a list of numbers.\n",
        "\n",
        "Image Processing: Linear algorithms can be used to perform operations on images, such as edge detection, image smoothing, and image compression.\n",
        "\n",
        "Data Analysis: Linear algorithms can be used to perform operations on data, such as calculating the average, standard deviation, and other statistical measures.\n",
        "\n",
        "**Practical Applications of Sorting Algorithms in Python:**\n",
        "\n",
        "**Data Sorting: **Sorting algorithms can be used to sort large amounts of data, such as sorting a large list of numbers or sorting a list of names in alphabetical order.\n",
        "\n",
        "**Database Operations: **Sorting algorithms are widely used in database operations, such as sorting the results of a database query.\n",
        "\n",
        "**Data Visualization:** Sorting algorithms can be used to sort data before visualizing it, such as sorting a large list of numbers in ascending or descending order before plotting them on a graph.\n",
        "\n",
        "Practical Applications of Graph Algorithms in Python:\n",
        "\n",
        "**Network Analysis:** Graph algorithms can be used to analyze networks, such as social networks, transportation networks, and communication networks.\n",
        "\n",
        "**Pathfinding:** Graph algorithms can be used to find the shortest path between two nodes in a graph, such as finding the shortest path between two cities in a transportation network.\n",
        "\n",
        "**Recommendation Systems:** Graph algorithms can be used to make recommendations, such as recommending movies or products based on a user's preferences.\n",
        "\n",
        "Here's a sample script to demonstrate the practical applications of these algorithms in Python:"
      ],
      "metadata": {
        "id": "Y56v4iFR8dZ0"
      }
    },
    {
      "cell_type": "code",
      "source": [
        "# Linear Algorithm - Array Searching\n",
        "def linear_search(arr, x):\n",
        "    for i in range(len(arr)):\n",
        "        if arr[i] == x:\n",
        "            return i\n",
        "    return -1\n",
        "\n",
        "arr = [1,2,3,4,5]\n",
        "x = 3\n",
        "result = linear_search(arr, x)\n",
        "if result != -1:\n",
        "    print(\"Element is present at index\", result)\n",
        "else:\n",
        "    print(\"Element is not present in the array\")\n",
        "\n",
        "# Sorting Algorithm - Bubble Sort\n",
        "def bubble_sort(arr):\n",
        "    n = len(arr)\n",
        "    for i in range(n-1):\n",
        "        for j in range(0, n-i-1):\n",
        "            if arr[j] > arr[j+1]:\n",
        "                arr[j], arr[j+1] = arr[j+1], arr[j]\n",
        "    return arr\n",
        "\n",
        "arr = [64, 34, 25, 12, 22, 11, 90]\n",
        "result = bubble_sort(arr)\n",
        "print(\"Sorted array is:\", result)\n",
        "\n",
        "# Graph Algorithm - Breadth First Search\n",
        "from collections import defaultdict\n",
        "\n",
        "class Graph:\n",
        "    def __init__(self):\n",
        "        self.graph = defaultdict(list)\n",
        "\n",
        "    def addEdge(self, u, v):\n",
        "        self.graph[u].append(v)\n",
        "\n",
        "    def BFS(self, s):\n",
        "        visited = [False] * (len(self.graph))\n",
        "        queue = []\n",
        "        queue.append(s)\n",
        "        visited[s] = True\n",
        "\n",
        "        while queue:\n",
        "            s = queue.pop(0)\n",
        "            print(s, end=\" \")\n",
        "\n",
        "            for i in self.graph[s]:\n",
        "               "
      ],
      "metadata": {
        "id": "ve4CUC0F848f"
      },
      "execution_count": null,
      "outputs": []
    },
    {
      "cell_type": "markdown",
      "source": [
        "**Arrays and Linked lists**\n",
        "\n",
        "Arrays store elements in contiguous memory locations, resulting in easily calculable addresses for the elements stored and this allows faster access to an element at a specific index. Linked lists are less rigid in their storage structure and elements are usually not stored in contiguous locations, hence they need to be stored with additional tags giving a reference to the next element. This difference in the data storage scheme decides which data structure would be more suitable for a given situation. Write a script explaining step by step this statement.\n",
        "\n",
        "Arrays and Linked Lists are two important data structures in computer science. They are both used to store collections of data, but they have different properties that make them more suitable for different use cases.\n",
        "\n",
        "An Array is a collection of elements stored in contiguous memory locations. This means that all the elements are stored one after another in memory. Because of this, it is possible to access an element at a specific index in an array in constant time, O(1). This is because the address of the element can be easily calculated based on the starting address of the array and the index of the element.\n",
        "\n",
        "On the other hand, a Linked List is a collection of elements, where each element is stored in a separate memory location, but each element has a reference to the next element in the list. This means that the elements are not stored in contiguous memory locations. To access an element in a linked list, you need to follow the reference from one element to the next, until you reach the element you want. This can take linear time, O(n), where n is the number of elements in the list.\n",
        "\n",
        "In summary, arrays are suitable for use cases where you need to access elements at specific indices quickly, while linked lists are more suitable for use cases where you need to insert or delete elements from the middle of the list frequently, because this operation is much more efficient in a linked list than in an array."
      ],
      "metadata": {
        "id": "YsQt8ASP9PGp"
      }
    },
    {
      "cell_type": "code",
      "source": [
        "#Here are examples of arrays and linked lists in Python:\n",
        "\n",
        "#Arrays:\n",
        "\n",
        "# Import the array module\n",
        "import array\n",
        "\n",
        "# Create an integer array with 5 elements\n",
        "arr = array.array('i', [1, 2, 3, 4, 5])\n",
        "\n",
        "# Print the array\n",
        "print(\"The created array is: \", end=\"\")\n",
        "for i in range(len(arr)):\n",
        "    print(arr[i], end=\" \")\n",
        "\n",
        "# Accessing an element using indexing\n",
        "print(\"\\nElement at index 2: \", arr[2])\n",
        "\n",
        "# Modifying an element\n",
        "arr[2] = 10\n",
        "print(\"Array after modification: \", end=\"\")\n",
        "for i in range(len(arr)):\n",
        "    print(arr[i], end=\" \")\n",
        "\n",
        "\n",
        "#Linked lists:\n",
        "\n",
        "# Define the Node class\n",
        "class Node:\n",
        "    def __init__(self, data):\n",
        "        self.data = data\n",
        "        self.next = None\n",
        "\n",
        "# Define the LinkedList class\n",
        "class LinkedList:\n",
        "    def __init__(self):\n",
        "        self.head = None\n",
        "\n",
        "    def push(self, new_data):\n",
        "        new_node = Node(new_data)\n",
        "        new_node.next = self.head\n",
        "        self.head = new_node\n",
        "\n",
        "    def print_list(self):\n",
        "        temp = self.head\n",
        "        while temp:\n",
        "            print(temp.data, end=\" \")\n",
        "            temp = temp.next\n",
        "\n",
        "# Create a linked list with 3 elements\n",
        "llist = LinkedList()\n",
        "llist.push(3)\n",
        "llist.push(2)\n",
        "llist.push(1)\n",
        "\n",
        "# Print the linked list\n",
        "print(\"The created linked list is: \", end=\"\")\n",
        "llist.print_list()\n"
      ],
      "metadata": {
        "id": "rY6RVPap-q1f"
      },
      "execution_count": null,
      "outputs": []
    },
    {
      "cell_type": "markdown",
      "source": [
        "**Heaps Stacks and Queues**\n",
        "\n",
        "**Stacks:** Operations are performed LIFO (last in, first out), which means that the last element added will be the first one removed. A stack can be implemented using an array or a linked list. If the stack runs out of memory, it’s called a stack overflow.\n",
        "\n",
        "**Queue:** Operations are performed FIFO (first in, first out), which means that the first element added will be the first one removed. A queue can be implemented using an array.\n",
        "\n",
        "**Heap:** A tree-based data structure in which the value of a parent node is ordered in a certain way with respect to the value of its child node(s). A heap can be either a min heap (the value of a parent node is less than or equal to the value of its children) or a max heap (the value of a parent node is greater than or equal to the value of its children).\n",
        "Here's an example in Python to demonstrate how stacks can be implemented using an array:"
      ],
      "metadata": {
        "id": "ApdldXFUAlU7"
      }
    },
    {
      "cell_type": "code",
      "source": [
        "from collections import deque\n",
        "\n",
        "queue = deque([])\n",
        "\n",
        "# Add elements to the queue\n",
        "queue.append(1)\n",
        "queue.append(2)\n",
        "queue.append(3)\n",
        "\n",
        "print(\"Initial queue: \", queue)\n",
        "\n",
        "# Remove elements from the queue (FIFO)\n",
        "print(\"\\nElements removed from the queue:\")\n",
        "print(queue.popleft())\n",
        "print(queue.popleft())\n",
        "print(queue.popleft())\n",
        "\n",
        "print(\"\\nQueue after removing all elements: \", queue)\n"
      ],
      "metadata": {
        "colab": {
          "base_uri": "https://localhost:8080/"
        },
        "id": "ZL4A5q6hA2Yp",
        "outputId": "cb8567ff-cc8e-4a1a-da6a-efad8de3c9fe"
      },
      "execution_count": null,
      "outputs": [
        {
          "output_type": "stream",
          "name": "stdout",
          "text": [
            "Initial queue:  deque([1, 2, 3])\n",
            "\n",
            "Elements removed from the queue:\n",
            "1\n",
            "2\n",
            "3\n",
            "\n",
            "Queue after removing all elements:  deque([])\n"
          ]
        }
      ]
    },
    {
      "cell_type": "markdown",
      "source": [
        "And here's an example in Python to demonstrate how queues can be implemented using an array:"
      ],
      "metadata": {
        "id": "3fqvPeauA7jy"
      }
    },
    {
      "cell_type": "code",
      "source": [
        "from collections import deque\n",
        "\n",
        "queue = deque([])\n",
        "\n",
        "# Add elements to the queue\n",
        "queue.append(1)\n",
        "queue.append(2)\n",
        "queue.append(3)\n",
        "\n",
        "print(\"Initial queue: \", queue)\n",
        "\n",
        "# Remove elements from the queue (FIFO)\n",
        "print(\"\\nElements removed from the queue:\")\n",
        "print(queue.popleft())\n",
        "print(queue.popleft())\n",
        "print(queue.popleft())\n",
        "\n",
        "print(\"\\nQueue after removing all elements: \", queue)\n"
      ],
      "metadata": {
        "colab": {
          "base_uri": "https://localhost:8080/"
        },
        "id": "PNzEmbaoA_P3",
        "outputId": "4c078ec8-8d9c-4378-efe6-de12a905b912"
      },
      "execution_count": null,
      "outputs": [
        {
          "output_type": "stream",
          "name": "stdout",
          "text": [
            "Initial queue:  deque([1, 2, 3])\n",
            "\n",
            "Elements removed from the queue:\n",
            "1\n",
            "2\n",
            "3\n",
            "\n",
            "Queue after removing all elements:  deque([])\n"
          ]
        }
      ]
    },
    {
      "cell_type": "markdown",
      "source": [
        "And here's an example in Python to demonstrate how heaps can be implemented:"
      ],
      "metadata": {
        "id": "_09IHXZQ71ZY"
      }
    },
    {
      "cell_type": "code",
      "source": [
        "import heapq\n",
        "\n",
        "heap = []\n",
        "\n",
        "# Adding elements to the heap\n",
        "heapq.heappush(heap, 3)\n",
        "heapq.heappush(heap, 4)\n",
        "heapq.heappush(heap, 9)\n",
        "heapq.heappush(heap, 5)\n",
        "heapq.heappush(heap, 2)\n",
        "\n",
        "print(\"Initial heap: \", heap)\n",
        "\n",
        "# Removing elements from the heap (min heap)\n",
        "print(\"\\nElements removed from the heap:\")\n",
        "print(heapq.heappop(heap))\n",
        "print(heapq.heappop(heap))\n",
        "print(heapq.heappop(heap))\n",
        "\n",
        "print(\"\\nHeap after removing all elements: \", heap)\n"
      ],
      "metadata": {
        "colab": {
          "base_uri": "https://localhost:8080/"
        },
        "id": "mtLOdTN5BW83",
        "outputId": "73144cf6-0361-4c6b-c0e3-532d27e400b8"
      },
      "execution_count": null,
      "outputs": [
        {
          "output_type": "stream",
          "name": "stdout",
          "text": [
            "Initial heap:  [2, 3, 9, 5, 4]\n",
            "\n",
            "Elements removed from the heap:\n",
            "2\n",
            "3\n",
            "4\n",
            "\n",
            "Heap after removing all elements:  [5, 9]\n"
          ]
        }
      ]
    },
    {
      "cell_type": "markdown",
      "source": [
        "**Hash Tables**\n",
        "\n",
        "Hash Table, Map, HashMap, Dictionary or Associative are all the names of the same data structure. It is a data structure that implements a set abstract data type, a structure that can map keys to values. Give example in Python to demonstrate these. \n",
        "Here is an example of a hash table implemented as a dictionary in Python:"
      ],
      "metadata": {
        "id": "6eb9o7ToBVyf"
      }
    },
    {
      "cell_type": "code",
      "source": [
        "# Define an empty dictionary\n",
        "hash_table = {}\n",
        "\n",
        "# Add key-value pairs to the dictionary\n",
        "hash_table[\"John\"] = 25\n",
        "hash_table[\"Jane\"] = 32\n",
        "hash_table[\"Jim\"] = 41\n",
        "\n",
        "# Print the entire hash table\n",
        "print(\"Hash Table: \", hash_table)\n",
        "\n",
        "# Access the value of a specific key\n",
        "print(\"Age of Jane: \", hash_table[\"Jane\"])\n",
        "\n",
        "# Update the value of a key\n",
        "hash_table[\"John\"] = 26\n",
        "print(\"Updated Hash Table: \", hash_table)\n",
        "\n",
        "# Delete a key-value pair\n",
        "del hash_table[\"Jim\"]\n",
        "print(\"Hash Table after deleting Jim: \", hash_table)\n",
        "\n",
        "# Check if a key exists in the hash table\n",
        "if \"Jane\" in hash_table:\n",
        "    print(\"Jane is in the hash table\")\n",
        "else:\n",
        "    print(\"Jane is not in the hash table\")\n"
      ],
      "metadata": {
        "colab": {
          "base_uri": "https://localhost:8080/"
        },
        "id": "IzMnW0DmCIAH",
        "outputId": "979f1d71-5555-4b1e-91d5-66669a7af0c8"
      },
      "execution_count": null,
      "outputs": [
        {
          "output_type": "stream",
          "name": "stdout",
          "text": [
            "Hash Table:  {'John': 25, 'Jane': 32, 'Jim': 41}\n",
            "Age of Jane:  32\n",
            "Updated Hash Table:  {'John': 26, 'Jane': 32, 'Jim': 41}\n",
            "Hash Table after deleting Jim:  {'John': 26, 'Jane': 32}\n",
            "Jane is in the hash table\n"
          ]
        }
      ]
    },
    {
      "cell_type": "markdown",
      "source": [
        "In this example, the hash table stores information about people and their respective ages. The keys in the hash table are strings that represent the names of the people, and the values are integers that represent their ages. You can add key-value pairs to the hash table using the square bracket notation, access the value of a specific key, update the value of a key, delete a key-value pair, and check if a key exists in the hash table."
      ],
      "metadata": {
        "id": "fZVZ9LmpCQXO"
      }
    },
    {
      "cell_type": "markdown",
      "source": [
        "**Binary Search Trees**\n",
        "\n",
        "A binary search tree, also called an ordered or sorted binary tree, is a rooted binary tree data structure with the key of each internal node being greater than all the keys in the respective node's left subtree and less than the ones in its right subtree.\n",
        "A binary search tree is a type of data structure used in computer science to efficiently store and search for data. It is a rooted binary tree where the value of each internal node is ordered in such a way that it is greater than all the values in its left subtree and less than all the values in its right subtree.\n",
        "\n",
        "Here is a simple script to demonstrate how a binary search tree can be implemented in Python:"
      ],
      "metadata": {
        "id": "LrTpC4-yCUoZ"
      }
    },
    {
      "cell_type": "code",
      "source": [
        "class Node:\n",
        "    def __init__(self, data):\n",
        "        self.left = None\n",
        "        self.right = None\n",
        "        self.data = data\n",
        "\n",
        "class BinarySearchTree:\n",
        "    def __init__(self):\n",
        "        self.root = None\n",
        "\n",
        "    def insert(self, data):\n",
        "        if self.root is None:\n",
        "            self.root = Node(data)\n",
        "        else:\n",
        "            current = self.root\n",
        "            while True:\n",
        "                if data < current.data:\n",
        "                    if current.left is None:\n",
        "                        current.left = Node(data)\n",
        "                        break\n",
        "                    else:\n",
        "                        current = current.left\n",
        "                elif data > current.data:\n",
        "                    if current.right is None:\n",
        "                        current.right = Node(data)\n",
        "                        break\n",
        "                    else:\n",
        "                        current = current.right\n",
        "                else:\n",
        "                    break\n"
      ],
      "metadata": {
        "id": "GIvvMaQ_Cx2f"
      },
      "execution_count": null,
      "outputs": []
    },
    {
      "cell_type": "markdown",
      "source": [
        "In the code above, we first define a Node class that has 3 properties: left, right, and data. Then, we define a BinarySearchTree class that has a root property and a insert method. The insert method is used to insert a new value into the binary search tree by first checking if the root is None (i.e. if the tree is empty), and if it is, setting the root to be a new node with the input data. If the tree is not empty, the method starts at the root node and compares the input data with the current node's data. If the input data is less than the current node's data, it moves to the left child node. If the input data is greater than the current node's data, it moves to the right child node. If the input data is equal to the current node's data, the method simply breaks. This process continues until the input data is inserted into the tree by setting the left or right child of a node to be a new node with the input data.\n",
        "\n",
        "\n",
        "\n",
        "\n"
      ],
      "metadata": {
        "id": "3cA5TcRbC_4_"
      }
    },
    {
      "cell_type": "markdown",
      "source": [
        "**Recursion**\n",
        "\n",
        "Recursion is a method of solving a computational problem where the solution depends on solutions to smaller instances of the same problem. Recursion solves such recursive problems by using functions that call themselves from within their own code.\n",
        "Here's a script explaining step by step the concept of recursion:\n",
        "\n",
        "Recursion is a way of solving problems where the solution to a problem depends on solutions to smaller instances of the same problem. This is accomplished by using functions that call themselves from within their own code.\n",
        "\n",
        "Let's take an example of computing the factorial of a number using recursion. Factorial of a number is the product of all positive integers less than or equal to that number. For instance, the factorial of 5 (5!) is 5 x 4 x 3 x 2 x 1 = 120.\n",
        "\n",
        "Here's the code for computing the factorial using recursion in Python:"
      ],
      "metadata": {
        "id": "N1t6RnPFDWqm"
      }
    },
    {
      "cell_type": "code",
      "source": [
        "def factorial(n):\n",
        "    if n == 0:\n",
        "        return 1\n",
        "    else:\n",
        "        return n * factorial(n - 1)\n",
        "\n",
        "print(\"The factorial of 5 is: \", factorial(5))\n"
      ],
      "metadata": {
        "colab": {
          "base_uri": "https://localhost:8080/"
        },
        "id": "XmrbV7jKDo0A",
        "outputId": "d4c0aa80-336d-42ed-86f8-42b043eb47a4"
      },
      "execution_count": null,
      "outputs": [
        {
          "output_type": "stream",
          "name": "stdout",
          "text": [
            "The factorial of 5 is:  120\n"
          ]
        }
      ]
    },
    {
      "cell_type": "markdown",
      "source": [
        "In the code above, we define a function factorial which takes an argument n. The function checks if n is equal to 0. If n is equal to 0, the function returns 1. This is the base case of the recursion. The base case is the condition that stops the recursion.\n",
        "\n",
        "If n is not equal to 0, the function returns n * factorial(n - 1). This line of code calls the function factorial recursively with n - 1 as the argument. The function continues to call itself with n - 1 until the base case is reached.\n",
        "\n",
        "In the end, the function returns the computed factorial value of n.\n",
        "\n",
        "So, this is how recursion works in Python. Recursion is a powerful technique for solving problems, but it can also lead to infinite loops if the base case is not defined correctly."
      ],
      "metadata": {
        "id": "0FHcF0fnDvSe"
      }
    },
    {
      "cell_type": "markdown",
      "source": [
        "**Sorting Algorithms**\n",
        "Sorting refers to arranging data in a particular format. Sorting algorithm specifies the way to arrange data in a particular order. Most common orders are in numerical or lexicographical order.\n",
        "\n",
        "The importance of sorting lies in the fact that data searching can be optimized to a very high level, if data is stored in a sorted manner. \n",
        "\n",
        "Sorting refers to arranging data in a particular format. Sorting algorithm specifies the way to arrange data in a particular order. Most common orders are in numerical or lexicographical order.\n",
        "\n",
        "The importance of sorting lies in the fact that data searching can be optimized to a very high level, if data is stored in a sorted manner. \n",
        "\n",
        "Sorting refers to arranging data in a particular format. The objective of sorting is to arrange data in a specific order, such as ascending or descending order. Sorting algorithms specify the way in which data should be ordered.\n",
        "\n",
        "There are several types of sorting algorithms, each with its own advantages and disadvantages. The most common sorting algorithms include:\n",
        "\n",
        "**Bubble sort**\n",
        "\n",
        "**Selection sort**\n",
        "\n",
        "**Insertion sort**\n",
        "\n",
        "**Merge sort**\n",
        "\n",
        "**Quick sort**\n",
        "\n",
        "Each sorting algorithm works in a different way to sort data, and the choice of which sorting algorithm to use depends on the nature of the data and the requirements of the application. For example, if the data is small and the number of elements to be sorted is not too large, bubble sort or selection sort might be suitable. However, if the data is large and the number of elements is significant, quick sort or merge sort would be more appropriate."
      ],
      "metadata": {
        "id": "Js-MxPhSD9wq"
      }
    },
    {
      "cell_type": "code",
      "source": [
        "#Here's an example for each sorting algorithm in Python:\n",
        "\n",
        "#Bubble Sort:\n",
        "\n",
        "def bubbleSort(arr):\n",
        "    n = len(arr)\n",
        "    for i in range(n):\n",
        "        for j in range(0, n - i - 1):\n",
        "            if arr[j] > arr[j + 1]:\n",
        "                arr[j], arr[j + 1] = arr[j + 1], arr[j]\n",
        "    return arr\n",
        "\n",
        "arr = [64, 34, 25, 12, 22, 11, 90]\n",
        "print(\"Sorted array is:\", bubbleSort(arr))\n"
      ],
      "metadata": {
        "colab": {
          "base_uri": "https://localhost:8080/"
        },
        "id": "xHiUfivYGBKw",
        "outputId": "9ac03fd8-b25e-45da-ae62-8f3d3a7d8109"
      },
      "execution_count": null,
      "outputs": [
        {
          "output_type": "stream",
          "name": "stdout",
          "text": [
            "Sorted array is: [11, 12, 22, 25, 34, 64, 90]\n"
          ]
        }
      ]
    },
    {
      "cell_type": "code",
      "source": [
        "#Selection Sort:\n",
        "def selectionSort(arr):\n",
        "    for i in range(len(arr)):\n",
        "        min_idx = i\n",
        "        for j in range(i + 1, len(arr)):\n",
        "            if arr[min_idx] > arr[j]:\n",
        "                min_idx = j\n",
        "        arr[i], arr[min_idx] = arr[min_idx], arr[i]\n",
        "    return arr\n",
        "\n",
        "arr = [64, 34, 25, 12, 22, 11, 90]\n",
        "print(\"Sorted array is:\", selectionSort(arr))\n"
      ],
      "metadata": {
        "colab": {
          "base_uri": "https://localhost:8080/"
        },
        "id": "5NDMd4LgGLeu",
        "outputId": "ef000462-1147-4182-af12-4949db16e65f"
      },
      "execution_count": null,
      "outputs": [
        {
          "output_type": "stream",
          "name": "stdout",
          "text": [
            "Sorted array is: [11, 12, 22, 25, 34, 64, 90]\n"
          ]
        }
      ]
    },
    {
      "cell_type": "code",
      "source": [
        "#Insertion Sort:\n",
        "def insertionSort(arr):\n",
        "    for i in range(1, len(arr)):\n",
        "        key = arr[i]\n",
        "        j = i - 1\n",
        "        while j >= 0 and key < arr[j]:\n",
        "            arr[j + 1] = arr[j]\n",
        "            j -= 1\n",
        "        arr[j + 1] = key\n",
        "    return arr\n",
        "\n",
        "arr = [64, 34, 25, 12, 22, 11, 90]\n",
        "print(\"Sorted array is:\", insertionSort(arr))\n"
      ],
      "metadata": {
        "colab": {
          "base_uri": "https://localhost:8080/"
        },
        "id": "uylSwTYIGafY",
        "outputId": "10261093-747a-4320-cca6-14354344bed7"
      },
      "execution_count": null,
      "outputs": [
        {
          "output_type": "stream",
          "name": "stdout",
          "text": [
            "Sorted array is: [11, 12, 22, 25, 34, 64, 90]\n"
          ]
        }
      ]
    },
    {
      "cell_type": "code",
      "source": [
        "#Merge Sort:\n",
        "def mergeSort(arr):\n",
        "    if len(arr) > 1:\n",
        "        mid = len(arr) // 2\n",
        "        L = arr[:mid]\n",
        "        R = arr[mid:]\n",
        "        mergeSort(L)\n",
        "        mergeSort(R)\n",
        "        i = j = k = 0\n",
        "        while i < len(L) and j < len(R):\n",
        "            if L[i] < R[j]:\n",
        "                arr[k] = L[i]\n",
        "                i += 1\n",
        "            else:\n",
        "                arr[k] = R[j]\n",
        "                j += 1\n",
        "            k += 1\n",
        "        while i < len(L):\n",
        "            arr[k] = L[i]\n",
        "            i += 1\n",
        "            k += 1\n",
        "        while j < len(R):\n",
        "            arr[k] = R[j]\n",
        "            j += 1\n",
        "            k += 1\n",
        "    return arr\n",
        "\n",
        "arr = [64, 34, 25, 12, 22, 11, 90]\n",
        "print(\"Sorted array is:\", mergeSort(arr))\n"
      ],
      "metadata": {
        "colab": {
          "base_uri": "https://localhost:8080/"
        },
        "id": "_7slGbEOGmz4",
        "outputId": "b6867632-25d7-4abd-a25b-76f4454c7540"
      },
      "execution_count": null,
      "outputs": [
        {
          "output_type": "stream",
          "name": "stdout",
          "text": [
            "Sorted array is: [11, 12, 22, 25, 34, 64, 90]\n"
          ]
        }
      ]
    },
    {
      "cell_type": "code",
      "source": [
        "#Quick Sort:\n",
        "def partition(arr, low, high):\n",
        "    pivot = arr[high]\n",
        "    i = low - 1\n",
        "    for j in range(low, high):\n",
        "        if arr[j] <= pivot:\n",
        "            i += 1\n",
        "            arr[i], arr[j] = arr[j], arr[i]\n",
        "    arr[i + 1], arr[high] = arr[high], arr[i + 1]\n",
        "    return i + 1\n",
        "\n",
        "def quickSort(arr, low, high):\n",
        "    if low < high:\n",
        "        pi = partition(arr, low, high)\n",
        "        quickSort(arr, low, pi - 1)\n",
        "        quickSort(arr, pi + 1, high)\n",
        "\n",
        "arr = [10, 7, 8, 9, 1, 5]\n",
        "n = len(arr)\n",
        "quickSort(arr, 0, n - 1)\n",
        "print(\"Sorted array is:\", arr)\n",
        "\n",
        "\n",
        "\n",
        "\n",
        "\n"
      ],
      "metadata": {
        "colab": {
          "base_uri": "https://localhost:8080/"
        },
        "id": "UmkUZhPJHISX",
        "outputId": "1643f8a5-0f31-477c-84c7-da2f49841d63"
      },
      "execution_count": null,
      "outputs": [
        {
          "output_type": "stream",
          "name": "stdout",
          "text": [
            "Sorted array is: [1, 5, 7, 8, 9, 10]\n"
          ]
        }
      ]
    },
    {
      "cell_type": "markdown",
      "source": [],
      "metadata": {
        "id": "F8lqaTU3Dzvo"
      }
    },
    {
      "cell_type": "markdown",
      "source": [
        "**Iterators**\n",
        "An iterator is an object that contains a countable number of values. An iterator is an object that can be iterated upon, meaning that you can traverse through all the values. Technically, in Python, an iterator is an object which implements the iterator protocol, which consist of the methods iter() and next(). \n",
        "An object that can be iterated upon, meaning that you can traverse through all the values it contains. To create an iterator in Python, you need to implement the iterator protocol, which consists of the methods __iter__ and __next__. The __iter__ method returns the iterator object itself, and the __next__ method returns the next value in the iteration.\n",
        "\n",
        "Here is an example that demonstrates how to create a custom iterator in Python:"
      ],
      "metadata": {
        "id": "1AFFcLiDIeH5"
      }
    },
    {
      "cell_type": "code",
      "source": [
        "class MyIterator:\n",
        "    def __init__(self, start, end):\n",
        "        self.current = start\n",
        "        self.end = end\n",
        "    \n",
        "    def __iter__(self):\n",
        "        return self\n",
        "    \n",
        "    def __next__(self):\n",
        "        if self.current >= self.end:\n",
        "            raise StopIteration\n",
        "        else:\n",
        "            self.current += 1\n",
        "            return self.current - 1\n",
        "\n",
        "my_iterator = MyIterator(0, 5)\n",
        "for i in my_iterator:\n",
        "    print(i)\n"
      ],
      "metadata": {
        "colab": {
          "base_uri": "https://localhost:8080/"
        },
        "id": "DttLX8EVI2Z9",
        "outputId": "d0419b8e-8802-45b6-e8cd-55fb6cf332fd"
      },
      "execution_count": null,
      "outputs": [
        {
          "output_type": "stream",
          "name": "stdout",
          "text": [
            "0\n",
            "1\n",
            "2\n",
            "3\n",
            "4\n"
          ]
        }
      ]
    },
    {
      "cell_type": "markdown",
      "source": [
        "This code defines a custom iterator MyIterator that generates a sequence of integers from start to end. The __iter__ method returns the iterator object itself, and the __next__ method returns the next value in the iteration. When the end of the iteration is reached, the __next__ method raises a StopIteration exception to signal that the iteration is finished.\n",
        "\n",
        "When we call for i in my_iterator, the my_iterator object is automatically passed to the iter function, which returns the iterator object. The for loop then repeatedly calls the next function on the iterator object until the StopIteration exception is raised."
      ],
      "metadata": {
        "id": "MIFpwzJxI9qh"
      }
    },
    {
      "cell_type": "markdown",
      "source": [
        "**ReGeX**\n",
        "\n",
        "**Regular Expressions**\n",
        "A regular expression is a sequence of characters that specifies a search pattern in text. Usually such patterns are used by string-searching algorithms for \"find\" or \"find and replace\" operations on strings, or for input validation.\n",
        "A regular expression, or RegEx, in Python is a pattern of characters that define a searchable string. It can be used to search for specific patterns of characters in a given text, as well as to validate user input. Here's a step by step explanation of how to use regular expressions in Python:\n",
        "\n",
        "1. Import the re module: Before you can use regular expressions in your code, you need to import the re module. This is done by adding the following line of code: import re\n",
        "\n",
        "2. Define the pattern: Next, you need to define the pattern you want to search for in the text. For example, you might want to search for all the words that start with the letter 'A'. To do this, you can define the pattern as follows: pattern = '^A\\w+'\n",
        "\n",
        "3. Compile the pattern: After you have defined the pattern, you need to compile it using the re.compile() function. This will create a RegEx pattern object that you can use to match the pattern in the text. For example: regex = re.compile(pattern)\n",
        "\n",
        "4. Use the search() method: Once you have compiled the pattern, you can use the search() method to find all the instances of the pattern in the text. For example, let's say you have a string text = 'Apple is a fruit. Avocado is also a fruit.'. To search for all the words starting with 'A', you can use the following code: matches = regex.search(text).\n",
        "\n",
        "5. Extract the matching text: After the search is complete, you can extract the matching text using the group() method. For example, the following code will print all the words starting with 'A': for match in matches: print(match.group())\n",
        "\n",
        "6. Use other RegEx functions: In addition to the search() method, the re module provides several other functions such as findall(), sub(), and split() to help you work with regular expressions."
      ],
      "metadata": {
        "id": "TV3qPRD6JQuX"
      }
    },
    {
      "cell_type": "markdown",
      "source": [
        "Here's an example of how to use regular expressions in Python to search for a pattern in a string:"
      ],
      "metadata": {
        "id": "lTPOdRjFNVpn"
      }
    },
    {
      "cell_type": "code",
      "source": [
        "import re\n",
        "\n",
        "text = \"The quick brown fox jumps over the lazy dog.\"\n",
        "\n",
        "# Search for a pattern in the text\n",
        "result = re.search(\"quick\", text)\n",
        "\n",
        "# Check if a match was found\n",
        "if result:\n",
        "    print(\"Match found at index\", result.start())\n",
        "else:\n",
        "    print(\"No match found.\")\n"
      ],
      "metadata": {
        "colab": {
          "base_uri": "https://localhost:8080/"
        },
        "id": "8tVV-6ghJDHs",
        "outputId": "54689126-8d75-4ec1-e9f8-793093a673aa"
      },
      "execution_count": null,
      "outputs": [
        {
          "output_type": "stream",
          "name": "stdout",
          "text": [
            "Match found at index 4\n"
          ]
        }
      ]
    },
    {
      "cell_type": "markdown",
      "source": [
        "Another example is using regular expressions to find and replace patterns in a string:"
      ],
      "metadata": {
        "id": "d-I40BGANghc"
      }
    },
    {
      "cell_type": "code",
      "source": [
        "import re\n",
        "\n",
        "text = \"The quick brown fox jumps over the lazy dog.\"\n",
        "\n",
        "# Replace all occurrences of \"the\" with \"a\"\n",
        "new_text = re.sub(\"the\", \"a\", text)\n",
        "\n",
        "print(\"Original text:\", text)\n",
        "print(\"New text:\", new_text)\n"
      ],
      "metadata": {
        "colab": {
          "base_uri": "https://localhost:8080/"
        },
        "id": "WSnI-sesNXn0",
        "outputId": "a2879736-da98-4b3a-f547-2386b0a78d71"
      },
      "execution_count": null,
      "outputs": [
        {
          "output_type": "stream",
          "name": "stdout",
          "text": [
            "Original text: The quick brown fox jumps over the lazy dog.\n",
            "New text: The quick brown fox jumps over a lazy dog.\n"
          ]
        }
      ]
    },
    {
      "cell_type": "markdown",
      "source": [
        "Here's an example of using regular expressions to validate an email address:"
      ],
      "metadata": {
        "id": "7f4KWc5GNp-0"
      }
    },
    {
      "cell_type": "code",
      "source": [
        "import re\n",
        "\n",
        "email = \"example@gmail.com\"\n",
        "\n",
        "# Check if the email address matches the pattern\n",
        "result = re.match(\"\\w+@\\w+\\.\\w+\", email)\n",
        "\n",
        "# Check if a match was found\n",
        "if result:\n",
        "    print(\"Valid email address.\")\n",
        "else:\n",
        "    print(\"Invalid email address.\")\n"
      ],
      "metadata": {
        "colab": {
          "base_uri": "https://localhost:8080/"
        },
        "id": "jj4XXJ73Njlb",
        "outputId": "0c1189fd-83f6-4559-b506-ddffa7fb7e55"
      },
      "execution_count": null,
      "outputs": [
        {
          "output_type": "stream",
          "name": "stdout",
          "text": [
            "Valid email address.\n"
          ]
        }
      ]
    },
    {
      "cell_type": "markdown",
      "source": [
        "Extract all the words from a string:"
      ],
      "metadata": {
        "id": "bTn_znW5OLwL"
      }
    },
    {
      "cell_type": "code",
      "source": [
        "import re\n",
        "\n",
        "text = \"This is a simple sentence.\"\n",
        "words = re.findall(r'\\w+', text)\n",
        "print(words)\n",
        "\n",
        "# Output: ['This', 'is', 'a', 'simple', 'sentence']\n"
      ],
      "metadata": {
        "colab": {
          "base_uri": "https://localhost:8080/"
        },
        "id": "BCbOPMk0OLKF",
        "outputId": "32ef5d9a-f39c-48e7-ab65-90d9c6e9ef5a"
      },
      "execution_count": null,
      "outputs": [
        {
          "output_type": "stream",
          "name": "stdout",
          "text": [
            "['This', 'is', 'a', 'simple', 'sentence']\n"
          ]
        }
      ]
    },
    {
      "cell_type": "markdown",
      "source": [
        "Check if a string starts with a specific pattern:"
      ],
      "metadata": {
        "id": "Pz7mzMSZOQLD"
      }
    },
    {
      "cell_type": "code",
      "source": [
        "import re\n",
        "\n",
        "text = \"This is the beginning of a sentence.\"\n",
        "match = re.match(r'This', text)\n",
        "\n",
        "if match:\n",
        "    print(\"The string starts with 'This'\")\n",
        "else:\n",
        "    print(\"The string does not start with 'This'\")\n",
        "\n",
        "# Output: The string starts with 'This'\n"
      ],
      "metadata": {
        "colab": {
          "base_uri": "https://localhost:8080/"
        },
        "id": "CmlHo_q1Ntcj",
        "outputId": "dbd083cf-35cc-4700-9e6d-92e9922ad761"
      },
      "execution_count": null,
      "outputs": [
        {
          "output_type": "stream",
          "name": "stdout",
          "text": [
            "The string starts with 'This'\n"
          ]
        }
      ]
    },
    {
      "cell_type": "markdown",
      "source": [
        "Replace all instances of a pattern in a string:"
      ],
      "metadata": {
        "id": "eIHRPTp8OWfc"
      }
    },
    {
      "cell_type": "code",
      "source": [
        "import re\n",
        "\n",
        "text = \"This is the beginning of a sentence. This is another sentence.\"\n",
        "new_text = re.sub(r'This', 'That', text)\n",
        "print(new_text)\n",
        "\n",
        "# Output: That is the beginning of a sentence. That is another sentence.\n"
      ],
      "metadata": {
        "colab": {
          "base_uri": "https://localhost:8080/"
        },
        "id": "o8WDB9q_OZ5L",
        "outputId": "741d48b5-bb4f-42b2-c1f1-ea3e72be55b6"
      },
      "execution_count": null,
      "outputs": [
        {
          "output_type": "stream",
          "name": "stdout",
          "text": [
            "That is the beginning of a sentence. That is another sentence.\n"
          ]
        }
      ]
    },
    {
      "cell_type": "markdown",
      "source": [
        "Split a string based on a specific pattern:"
      ],
      "metadata": {
        "id": "0_yoRMr-OfE7"
      }
    },
    {
      "cell_type": "code",
      "source": [
        "import re\n",
        "\n",
        "text = \"This is a sentence. This is another sentence.\"\n",
        "sentences = re.split(r'\\.', text)\n",
        "print(sentences)\n",
        "\n",
        "# Output: ['This is a sentence', ' This is another sentence', '']\n"
      ],
      "metadata": {
        "colab": {
          "base_uri": "https://localhost:8080/"
        },
        "id": "SVdtZVnnOoHD",
        "outputId": "3262f0f0-274a-471e-a023-9affd4710705"
      },
      "execution_count": null,
      "outputs": [
        {
          "output_type": "stream",
          "name": "stdout",
          "text": [
            "['This is a sentence', ' This is another sentence', '']\n"
          ]
        }
      ]
    },
    {
      "cell_type": "markdown",
      "source": [],
      "metadata": {
        "id": "d49SW30LOq8s"
      }
    },
    {
      "cell_type": "markdown",
      "source": [
        "Checking if a string starts with a specific pattern:"
      ],
      "metadata": {
        "id": "G7ZJ6C1xPa2u"
      }
    },
    {
      "cell_type": "code",
      "source": [
        "import re\n",
        "\n",
        "string = \"Hello World\"\n",
        "\n",
        "if re.match(\"^Hello\", string):\n",
        "    print(\"The string starts with 'Hello'\")\n",
        "else:\n",
        "    print(\"The string does not start with 'Hello'\")\n"
      ],
      "metadata": {
        "colab": {
          "base_uri": "https://localhost:8080/"
        },
        "id": "6hRU6So9PcLL",
        "outputId": "ab9bca9c-9015-406a-9a7e-c5494157059e"
      },
      "execution_count": null,
      "outputs": [
        {
          "output_type": "stream",
          "name": "stdout",
          "text": [
            "The string starts with 'Hello'\n"
          ]
        }
      ]
    },
    {
      "cell_type": "markdown",
      "source": [
        "Replacing all occurrences of a pattern in a string:"
      ],
      "metadata": {
        "id": "wTGNIam1PoB1"
      }
    },
    {
      "cell_type": "code",
      "source": [
        "import re\n",
        "\n",
        "string = \"Hello World, how are you today?\"\n",
        "new_string = re.sub(\"[A-Za-z]+\", \"X\", string)\n",
        "print(new_string)\n"
      ],
      "metadata": {
        "colab": {
          "base_uri": "https://localhost:8080/"
        },
        "id": "wVZl-W0oPqUt",
        "outputId": "6babbe39-6e05-4dc0-ade8-4b9b8ff0346e"
      },
      "execution_count": null,
      "outputs": [
        {
          "output_type": "stream",
          "name": "stdout",
          "text": [
            "X X, X X X X?\n"
          ]
        }
      ]
    },
    {
      "cell_type": "markdown",
      "source": [
        "Extracting all digits from a string:"
      ],
      "metadata": {
        "id": "xNUjGpXTP5wv"
      }
    },
    {
      "cell_type": "code",
      "source": [
        "import re\n",
        "\n",
        "string = \"I have 100 apples and 200 bananas\"\n",
        "numbers = re.findall(\"\\d+\", string)\n",
        "print(numbers)\n"
      ],
      "metadata": {
        "colab": {
          "base_uri": "https://localhost:8080/"
        },
        "id": "40q3zesWP7JK",
        "outputId": "8a3c9b5b-4faf-4780-d3a6-685cec9f3807"
      },
      "execution_count": null,
      "outputs": [
        {
          "output_type": "stream",
          "name": "stdout",
          "text": [
            "['100', '200']\n"
          ]
        }
      ]
    },
    {
      "cell_type": "markdown",
      "source": [
        "Matching a pattern multiple times in a string:"
      ],
      "metadata": {
        "id": "f01DC6NzQE7L"
      }
    },
    {
      "cell_type": "code",
      "source": [
        "import re\n",
        "\n",
        "string = \"Hello World, how are you today?\"\n",
        "matches = re.findall(\"[A-Za-z]+\", string)\n",
        "print(matches)\n"
      ],
      "metadata": {
        "colab": {
          "base_uri": "https://localhost:8080/"
        },
        "id": "kq_nK-80QIVb",
        "outputId": "6c724989-81fd-4efa-9cdc-fc7c603b12bb"
      },
      "execution_count": null,
      "outputs": [
        {
          "output_type": "stream",
          "name": "stdout",
          "text": [
            "['Hello', 'World', 'how', 'are', 'you', 'today']\n"
          ]
        }
      ]
    },
    {
      "cell_type": "markdown",
      "source": [
        "Substituting Text:"
      ],
      "metadata": {
        "id": "3gU3P19-QdiA"
      }
    },
    {
      "cell_type": "code",
      "source": [
        "import re\n",
        "\n",
        "string = \"The quick brown fox jumps over the lazy dog.\"\n",
        "\n",
        "# Replace all occurrences of \"the\" with \"a\"\n",
        "substituted = re.sub(r\"\\bthe\\b\", \"a\", string)\n",
        "print(substituted)\n",
        "\n",
        "# Output: \"a quick brown fox jumps over a lazy dog.\"\n"
      ],
      "metadata": {
        "colab": {
          "base_uri": "https://localhost:8080/"
        },
        "id": "OwyNkQR5Qf7W",
        "outputId": "8503541f-9fa1-4e35-c10d-6cb5817c0d4a"
      },
      "execution_count": null,
      "outputs": [
        {
          "output_type": "stream",
          "name": "stdout",
          "text": [
            "The quick brown fox jumps over a lazy dog.\n"
          ]
        }
      ]
    },
    {
      "cell_type": "markdown",
      "source": [
        "Splitting Text:"
      ],
      "metadata": {
        "id": "ZH30W7SXQiit"
      }
    },
    {
      "cell_type": "code",
      "source": [
        "import re\n",
        "\n",
        "string = \"The quick brown fox jumps over the lazy dog.\"\n",
        "\n",
        "# Split the string at every word\n",
        "split = re.split(r\"\\b\", string)\n",
        "print(split)\n",
        "\n",
        "# Output: ['', 'The', ' ', 'quick', ' ', 'brown', ' ', 'fox', ' ', 'jumps', ' ', 'over', ' ', 'the', ' ', 'lazy', ' ', 'dog', '.']\n"
      ],
      "metadata": {
        "colab": {
          "base_uri": "https://localhost:8080/"
        },
        "id": "BYeJ3VAeQqdL",
        "outputId": "91b2c2d4-55f7-4f60-9b46-bc59922ecf47"
      },
      "execution_count": null,
      "outputs": [
        {
          "output_type": "stream",
          "name": "stdout",
          "text": [
            "['', 'The', ' ', 'quick', ' ', 'brown', ' ', 'fox', ' ', 'jumps', ' ', 'over', ' ', 'the', ' ', 'lazy', ' ', 'dog', '.']\n"
          ]
        }
      ]
    },
    {
      "cell_type": "markdown",
      "source": [
        "**Decorators**\n",
        "\n",
        "Decorator is a design pattern in Python that allows a user to add new functionality to an existing object without modifying its structure. Decorators are usually called before the definition of a function you want to decorate. \n",
        "Here is a step-by-step explanation of how decorators work in Python, along with examples:\n",
        "\n",
        "First, let's create a simple function that we will use to demonstrate the use of decorators:"
      ],
      "metadata": {
        "id": "blfFXXEfRVwN"
      }
    },
    {
      "cell_type": "code",
      "source": [
        "def say_hello():\n",
        "    print(\"Hello, World!\")\n"
      ],
      "metadata": {
        "id": "xlHUCHHuRgca"
      },
      "execution_count": null,
      "outputs": []
    },
    {
      "cell_type": "markdown",
      "source": [
        "Next, let's create a decorator function that will add some additional functionality to say_hello:"
      ],
      "metadata": {
        "id": "3MeAlaFHR-ft"
      }
    },
    {
      "cell_type": "code",
      "source": [
        "def uppercase_decorator(func):\n",
        "    def wrapper():\n",
        "        func()\n",
        "        print(\"!!!!\")\n",
        "    return wrapper\n"
      ],
      "metadata": {
        "id": "1CQLm-mGSBQC"
      },
      "execution_count": null,
      "outputs": []
    },
    {
      "cell_type": "markdown",
      "source": [
        "The decorator function uppercase_decorator takes func as an argument and returns a new function wrapper. The wrapper function calls func and adds some additional functionality (in this case, printing \"!!!!\").\n",
        "\n",
        "To use the decorator, we simply apply it to say_hello using the @ symbol:"
      ],
      "metadata": {
        "id": "ilkKtAkzSOik"
      }
    },
    {
      "cell_type": "code",
      "source": [
        "@uppercase_decorator\n",
        "def say_hello():\n",
        "    print(\"Hello, World!\")\n"
      ],
      "metadata": {
        "id": "OOiTuFKwSUDp"
      },
      "execution_count": null,
      "outputs": []
    },
    {
      "cell_type": "markdown",
      "source": [
        "Now, when we call say_hello, it will first execute the code in the original function, then execute the additional code defined in the decorator:"
      ],
      "metadata": {
        "id": "hN1-PvbCSaN9"
      }
    },
    {
      "cell_type": "code",
      "source": [
        "def decorator_function(original_function):\n",
        "    def wrapper_function(*args, **kwargs):\n",
        "        print(\"Hello, World!\")\n",
        "        return original_function(*args, **kwargs)\n",
        "    return wrapper_function\n",
        "\n",
        "@decorator_function\n",
        "def display_info(name, age):\n",
        "    print(f\"Name: {name}, Age: {age}\")\n",
        "\n",
        "display_info(\"John Doe\", 35)\n",
        "\n"
      ],
      "metadata": {
        "colab": {
          "base_uri": "https://localhost:8080/"
        },
        "id": "AtEwTWCpSdIa",
        "outputId": "cddf1a9f-4fa4-4eb2-d25f-fe340f633728"
      },
      "execution_count": null,
      "outputs": [
        {
          "output_type": "stream",
          "name": "stdout",
          "text": [
            "Hello, World!\n",
            "Name: John Doe, Age: 35\n"
          ]
        }
      ]
    },
    {
      "cell_type": "markdown",
      "source": [
        "This code defines a simple decorator that adds the message \"Hello, World!\" to the output of the decorated function. The decorator_function takes a function as an argument and returns a new function (the wrapper_function) that wraps the original function. The display_info function is then decorated using the @decorator_function syntax. When the display_info function is called, it will first run the wrapper_function, which will print \"Hello, World!\" and then run the original function."
      ],
      "metadata": {
        "id": "MRlvk3W4SqIm"
      }
    },
    {
      "cell_type": "markdown",
      "source": [
        "**Lambdas**\n",
        "\n",
        "Python Lambda Functions are anonymous function means that the function is without a name. As we already know that the def keyword is used to define a normal function in Python. Similarly, the lambda keyword is used to define an anonymous function in Python.\n",
        "\n",
        "In Python, a lambda function is a small anonymous function that is defined using the lambda keyword. The lambda function can have any number of arguments but can only have one expression. The expression is evaluated and returned when the function is called.\n",
        "\n",
        "Here is an example of a simple lambda function that takes two arguments and returns the sum of them:"
      ],
      "metadata": {
        "id": "3ZKL97zuTdAd"
      }
    },
    {
      "cell_type": "code",
      "source": [
        "sum = lambda a, b: a + b\n",
        "print(sum(3, 4))\n"
      ],
      "metadata": {
        "colab": {
          "base_uri": "https://localhost:8080/"
        },
        "id": "TDFQFLOVTwPi",
        "outputId": "2fb1d30f-29ee-4548-fdff-950c45ad616c"
      },
      "execution_count": null,
      "outputs": [
        {
          "output_type": "stream",
          "name": "stdout",
          "text": [
            "7\n"
          ]
        }
      ]
    },
    {
      "cell_type": "markdown",
      "source": [
        "In this example, we have defined a lambda function sum that takes two arguments a and b and returns the sum of them. The lambda function is then called by passing the arguments 3 and 4.\n",
        "\n",
        "Lambda functions are often used in Python when a small piece of functionality is required for a short period of time. They are commonly used in sorting, filtering, and reducing operations in lists and other iterables.\n",
        "\n",
        "For example, here is a lambda function that takes a list of numbers and returns a new list containing only the even numbers:"
      ],
      "metadata": {
        "id": "jgz7Wl4jT04B"
      }
    },
    {
      "cell_type": "markdown",
      "source": [
        "**OOP**\n",
        "\n",
        "In Python, object-oriented Programming (OOPs) is a programming paradigm that uses objects and classes in programming. It aims to implement real-world entities like inheritance, polymorphisms, encapsulation, etc. in the programming. The main concept of OOPs is to bind the data and the functions that work on that together as a single unit so that no other part of the code can access this data.\n",
        "\n"
      ],
      "metadata": {
        "id": "nti6DnJuUxQS"
      }
    },
    {
      "cell_type": "code",
      "source": [],
      "metadata": {
        "id": "jvFmqXLEU8qb"
      },
      "execution_count": null,
      "outputs": []
    },
    {
      "cell_type": "markdown",
      "source": [
        "**Classes**\n",
        "\n",
        "A class is a user-defined blueprint or prototype from which objects are created. Classes provide a means of bundling data and functionality together. Creating a new class creates a new type of object, allowing new instances of that type to be made. Each class instance can have attributes attached to it for maintaining its state. Class instances can also have methods (defined by their class) for modifying their state."
      ],
      "metadata": {
        "id": "8_q-BhpXU9E4"
      }
    },
    {
      "cell_type": "code",
      "source": [],
      "metadata": {
        "id": "2FtloAlkVc4p"
      },
      "execution_count": null,
      "outputs": []
    },
    {
      "cell_type": "markdown",
      "source": [
        "**Inheritance**\n",
        "\n",
        "Inheritance allows us to define a class that inherits all the methods and properties from another class."
      ],
      "metadata": {
        "id": "gAY-aviEVdcA"
      }
    },
    {
      "cell_type": "code",
      "source": [],
      "metadata": {
        "id": "tPsfRwLpVpry"
      },
      "execution_count": null,
      "outputs": []
    },
    {
      "cell_type": "markdown",
      "source": [
        "**Methods and Dunder**\n",
        "\n",
        "A method in python is somewhat similar to a function, except it is associated with object/classes. Methods in python are very similar to functions except for two major differences.\n",
        "\n",
        "The method is implicitly used for an object for which it is called.\n",
        "The method is accessible to data that is contained within the class.\n",
        "Dunder or magic methods in Python are the methods having two prefix and suffix underscores in the method name. Dunder here means “Double Under (Underscores)”. These are commonly used for operator overloading. Few examples for magic methods are: init, add, len, repr etc."
      ],
      "metadata": {
        "id": "Dzc3D9LTVuVC"
      }
    },
    {
      "cell_type": "markdown",
      "source": [
        "**Modules**\n",
        "\n",
        "Modules refer to a file containing Python statements and definitions. A file containing Python code, for example: example.py, is called a module, and its module name would be example. We use modules to break down large programs into small manageable and organized files. Furthermore, modules provide reusability of code.\n",
        "A module is a file containing Python definitions and statements. The file name is the module name with the suffix .py appended. Within a module, the module’s name (as a string) is available as the value of the global variable __name__. For instance, use your favorite text editor to create a file called fibo.py in the current directory with the following contents:"
      ],
      "metadata": {
        "id": "2t5p4vicWk_h"
      }
    },
    {
      "cell_type": "code",
      "source": [
        "# Fibonacci numbers module\n",
        "\n",
        "def fib(n):    # write Fibonacci series up to n\n",
        "    a, b = 0, 1\n",
        "    while a < n:\n",
        "        print(a, end=' ')\n",
        "        a, b = b, a+b\n",
        "    print()\n",
        "\n",
        "def fib2(n):   # return Fibonacci series up to n\n",
        "    result = []\n",
        "    a, b = 0, 1\n",
        "    while a < n:\n",
        "        result.append(a)\n",
        "        a, b = b, a+b\n",
        "    return result"
      ],
      "metadata": {
        "id": "LbhHP11CWvap"
      },
      "execution_count": null,
      "outputs": []
    },
    {
      "cell_type": "markdown",
      "source": [
        "Here, we are importing specific sqrt and factorial attributes from the math module."
      ],
      "metadata": {
        "id": "MM7xZL6QbKzr"
      }
    },
    {
      "cell_type": "code",
      "source": [
        "# importing sqrt() and factorial from the\n",
        "# module math\n",
        "from math import sqrt, factorial\n",
        " \n",
        "# if we simply do \"import math\", then\n",
        "# math.sqrt(16) and math.factorial()\n",
        "# are required.\n",
        "print(sqrt(16))\n",
        "print(factorial(6))"
      ],
      "metadata": {
        "colab": {
          "base_uri": "https://localhost:8080/"
        },
        "id": "oXhCTlH9bLeY",
        "outputId": "31e02b99-71f8-4102-9689-1fb255ea60c1"
      },
      "execution_count": null,
      "outputs": [
        {
          "output_type": "stream",
          "name": "stdout",
          "text": [
            "4.0\n",
            "720\n"
          ]
        }
      ]
    },
    {
      "cell_type": "markdown",
      "source": [
        "Now enter the Python interpreter and import this module with the following command:"
      ],
      "metadata": {
        "id": "id33zmILXGIi"
      }
    },
    {
      "cell_type": "markdown",
      "source": [
        "**Packages**\n",
        "\n",
        "Packages are a way of structuring Python’s module namespace by using “dotted module names”. For example, the module name A.B designates a submodule named B in a package named A. Just like the use of modules saves the authors of different modules from having to worry about each other’s global variable names, the use of dotted module names saves the authors of multi-module packages like NumPy or Pillow from having to worry about each other’s module names.\n",
        "\n",
        "Suppose you want to design a collection of modules (a “package”) for the uniform handling of sound files and sound data. There are many different sound file formats (usually recognized by their extension, for example: .wav, .aiff, .au), so you may need to create and maintain a growing collection of modules for the conversion between the various file formats. There are also many different operations you might want to perform on sound data (such as mixing, adding echo, applying an equalizer function, creating an artificial stereo effect), so in addition you will be writing a never-ending stream of modules to perform these operations.\n",
        "\n",
        "\n",
        "\n"
      ],
      "metadata": {
        "id": "lv95IZdKWvxB"
      }
    },
    {
      "cell_type": "markdown",
      "source": [
        "**Builtin Modules**\n",
        "\n",
        "Python interpreter has a number of built-in functions. They are always available for use in every interpreter session. Many of them have been discussed in previously. \n",
        "\n",
        "In programming terminology, function is a separate, complete and reusable software component. Long and complex logic in a program is broken into smaller, independent and reusable blocks of instructions usually called a module, a subroutine or function. It is designed to perform a specific task that is a part of entire process. This approach towards software development is called modular programming.\n",
        "\n",
        "Such a program has a main routine through which smaller independent modules (functions) are called upon. Each When called, a function performs a specified task and returns the control back to the calling routine, optionally along with result of its process.\n",
        "\n",
        "Python interpreter has a number of built-in functions. They are always available for use in every interpreter session. Many of them have been discussed in previously. For example print() and input() for I/O, number conversion functions (int(), float(), complex()), data type conversions (list(), tuple(), set()) etc. "
      ],
      "metadata": {
        "id": "hB9TfwRgdhB6"
      }
    },
    {
      "cell_type": "code",
      "source": [
        "#The sqrt() function in math module returns square root of a number.\n",
        "import math\n",
        "math.sqrt(100)\n",
        "10.0"
      ],
      "metadata": {
        "colab": {
          "base_uri": "https://localhost:8080/"
        },
        "id": "pV5UeTx8eLUy",
        "outputId": "0d31a4ec-706a-4818-d8d4-ccd3e6f8a64c"
      },
      "execution_count": null,
      "outputs": [
        {
          "output_type": "execute_result",
          "data": {
            "text/plain": [
              "10.0"
            ]
          },
          "metadata": {},
          "execution_count": 69
        }
      ]
    },
    {
      "cell_type": "markdown",
      "source": [
        "**Custom Modules**\n",
        "\n",
        "Modules refer to a file containing Python statements and definitions. A file containing Python code, for example: example.py, is called a module, and its module name would be example. We use modules to break down large programs into small manageable and organized files. Furthermore, modules provide reusability of code."
      ],
      "metadata": {
        "id": "3sLNvFvCebj2"
      }
    },
    {
      "cell_type": "code",
      "source": [],
      "metadata": {
        "id": "5YMfuHuwebCw"
      },
      "execution_count": null,
      "outputs": []
    },
    {
      "cell_type": "markdown",
      "source": [
        "**Package Managers**\n",
        "\n",
        "Package managers allow you to manage the dependencies (external code written by you or someone else) that your project needs to work correctly.\n",
        "\n",
        "PyPI and Pip are the most common contenders but here are some other options available as well:\n",
        "\n",
        "**Poetry** is a tool for dependency management and packaging in Python. It allows you to declare the libraries your project depends on and it will manage (install/update) them for you. Poetry offers a lockfile to ensure repeatable installs, and can build your project for distribution.\n",
        "\n",
        "\n",
        "**PyPI**, typically pronounced pie-pee-eye, is a repository containing several hundred thousand packages. These range from trivial Hello, World implementations to advanced deep learning libraries.\n",
        "\n",
        "\n",
        "\n"
      ],
      "metadata": {
        "id": "cdR0nRtHeyWQ"
      }
    },
    {
      "cell_type": "markdown",
      "source": [
        "**Conda**\n",
        "\n",
        "Conda is an open source package management system and environment management system that runs on Windows, macOS, and Linux. Conda quickly installs, runs and updates packages and their dependencies. Conda easily creates, saves, loads and switches between environments on your local computer. It was created for Python programs, but it can package and distribute software for any language.\n",
        "\n",
        "Conda as a package manager helps you find and install packages. If you need a package that requires a different version of Python, you do not need to switch to a different environment manager, because conda is also an environment manager. With just a few commands, you can set up a totally separate environment to run that different version of Python, while continuing to run your usual version of Python in your normal environment."
      ],
      "metadata": {
        "id": "gSJ5HGM7z7gO"
      }
    },
    {
      "cell_type": "markdown",
      "source": [
        "**List Comprehensions**\n",
        "\n",
        "List comprehensions are a concise way to create a list using a single line of code in Python. They are a powerful tool for creating and manipulating lists, and they can be used to simplify and shorten code.\n",
        "\n"
      ],
      "metadata": {
        "id": "44RvDWxEeLv_"
      }
    },
    {
      "cell_type": "code",
      "source": [
        "numbers = [1, 2, 3, 4, 5, 6, 7, 8, 9, 10]\n",
        "squared_numbers = [x**2 for x in numbers]\n",
        "print(squared_numbers)\n"
      ],
      "metadata": {
        "colab": {
          "base_uri": "https://localhost:8080/"
        },
        "id": "Ruhrqkrp3Ffi",
        "outputId": "6b498504-d06e-4248-d421-9c4aa83b3414"
      },
      "execution_count": null,
      "outputs": [
        {
          "output_type": "stream",
          "name": "stdout",
          "text": [
            "[1, 4, 9, 16, 25, 36, 49, 64, 81, 100]\n"
          ]
        }
      ]
    },
    {
      "cell_type": "markdown",
      "source": [
        "**Generator Compressions**\n",
        "\n",
        "Generator comprehensions are a concise way to create a generator using a single line of code in Python. They are similar to list comprehensions, but instead of creating a list, they create a generator object that produces the values on-demand, as they are needed.\n",
        "\n",
        "Generator comprehensions are a useful tool for creating generators that generate a large sequence of values, as they allow you to create the generator without creating the entire sequence in memory at once. This can be more efficient and use less memory, especially for large sequences.\n",
        "\n",
        "Here is a step by step explanation of generator comprehensions in Python:\n",
        "\n",
        "Define the generator comprehension:\n",
        "The generator comprehension is defined using a similar syntax to a list comprehension, but with parentheses instead of square brackets.\n",
        "\n",
        "Use the yield statement:\n",
        "The generator comprehension uses the yield statement to produce values on-demand, as they are needed.\n",
        "\n",
        "Create the generator object:\n",
        "The generator comprehension creates a generator object that produces the values defined in the yield statement.\n",
        "\n",
        "Here is a script that demonstrates how to use a generator comprehension in Python:"
      ],
      "metadata": {
        "id": "RlaacUUP4Ooz"
      }
    },
    {
      "cell_type": "code",
      "source": [
        "# Define the generator comprehension\n",
        "squared_numbers = (x**2 for x in range(1, 11))\n",
        "\n",
        "# Create the generator object\n",
        "gen = iter(squared_numbers)\n",
        "\n",
        "# Use the generator object to generate values\n",
        "print(next(gen)) # 1\n",
        "print(next(gen)) # 4\n",
        "print(next(gen)) # 9\n",
        "\n",
        "# ...and so on\n"
      ],
      "metadata": {
        "colab": {
          "base_uri": "https://localhost:8080/"
        },
        "id": "1EXM9AEa6YGv",
        "outputId": "f507c723-259a-4243-dbca-e6880668572b"
      },
      "execution_count": null,
      "outputs": [
        {
          "output_type": "stream",
          "name": "stdout",
          "text": [
            "1\n",
            "4\n",
            "9\n"
          ]
        }
      ]
    },
    {
      "cell_type": "markdown",
      "source": [
        "In this script, the generator comprehension squared_numbers generates the squares of the numbers from 1 to 10, and the generator object gen is created from the generator comprehension. The values generated by the generator object can be accessed using the next function."
      ],
      "metadata": {
        "id": "5SDFrUuL6h6i"
      }
    },
    {
      "cell_type": "markdown",
      "source": [
        "**Python is a multi-paradigm programming language**, which means that it supports several programming paradigms. Explain some of the main paradigms step by step with script. \n",
        "\n",
        "Some of the main paradigms supported by Python are:\n",
        "\n",
        "**Imperative programming:** This paradigm focuses on telling the computer what to do, step by step. Python supports imperative programming with features such as variables, loops, and control structures.\n",
        "\n",
        "Imperative programming is a programming paradigm that uses statements that change a program’s state. In imperative programming, you give the computer a sequence of tasks to perform, and the computer performs them in order. The term “imperative” refers to the fact that the program gives the computer commands that the computer must follow.\n",
        "\n",
        "Here's an example in Python that demonstrates imperative programming:"
      ],
      "metadata": {
        "id": "AevhcEg16npX"
      }
    },
    {
      "cell_type": "code",
      "source": [
        "def double_numbers(numbers):\n",
        "    result = []\n",
        "    for num in numbers:\n",
        "        result.append(num * 2)\n",
        "    return result\n",
        "\n",
        "numbers = [1, 2, 3, 4, 5]\n",
        "print(double_numbers(numbers))\n"
      ],
      "metadata": {
        "colab": {
          "base_uri": "https://localhost:8080/"
        },
        "id": "efBirIGx7pfc",
        "outputId": "2cc4bc69-6653-4964-a305-c407c176f216"
      },
      "execution_count": null,
      "outputs": [
        {
          "output_type": "stream",
          "name": "stdout",
          "text": [
            "[2, 4, 6, 8, 10]\n"
          ]
        }
      ]
    },
    {
      "cell_type": "markdown",
      "source": [
        "In this example, the function double_numbers takes a list of numbers as an argument, and it returns a new list that contains the double of each number in the original list. The function uses a for loop to iterate through each number in the list, and it uses the append method to add the double of each number to a new list.\n",
        "\n",
        "This is a simple example, but it demonstrates the key idea of imperative programming: the program consists of a series of statements that change the state of the computer and specify a sequence of tasks to be performed.\n",
        "\n",
        "\n",
        "\n",
        "\n"
      ],
      "metadata": {
        "id": "5QqzgP8z8KcK"
      }
    },
    {
      "cell_type": "markdown",
      "source": [
        "**Object-oriented programming (OOP):** This paradigm is based on the idea of objects and their interactions. Python supports OOP with features such as classes, inheritance, and polymorphism."
      ],
      "metadata": {
        "id": "wG1EGm0U7p-H"
      }
    },
    {
      "cell_type": "code",
      "source": [],
      "metadata": {
        "id": "wSKWyh0Z7ukv"
      },
      "execution_count": null,
      "outputs": []
    },
    {
      "cell_type": "markdown",
      "source": [
        "**Functional programming:** This paradigm is based on the idea of functions as first-class citizens, and it emphasizes the use of pure functions and immutable data. Python supports functional programming with features such as higher-order functions, lambda expressions, and generators. Based on mathematical functions. Functions are the primary building blocks, and the program is a composition of functions. In functional programming, you avoid side effects and mutation of state, and you pass data between functions as arguments."
      ],
      "metadata": {
        "id": "8kz17x447vBG"
      }
    },
    {
      "cell_type": "code",
      "source": [
        "#Ezample\n",
        "def add(a, b):\n",
        "    return a + b\n",
        "\n",
        "def subtract(a, b):\n",
        "    return a - b\n",
        "\n",
        "def multiply(a, b):\n",
        "    return a * b\n",
        "\n",
        "def apply_operation(func, a, b):\n",
        "    return func(a, b)\n",
        "\n",
        "result = apply_operation(add, 5, 3)\n",
        "print(result)\n",
        "result = apply_operation(subtract, 5, 3)\n",
        "print(result)\n",
        "result = apply_operation(multiply, 5, 3)\n",
        "print(result)\n"
      ],
      "metadata": {
        "colab": {
          "base_uri": "https://localhost:8080/"
        },
        "id": "ArrXTzbJ70au",
        "outputId": "957606a3-76c6-49fa-fb67-8834f2489858"
      },
      "execution_count": null,
      "outputs": [
        {
          "output_type": "stream",
          "name": "stdout",
          "text": [
            "8\n",
            "2\n",
            "15\n"
          ]
        }
      ]
    },
    {
      "cell_type": "markdown",
      "source": [
        "**Aspect-oriented programming:** This paradigm is based on the idea of separating cross-cutting concerns from the main functionality of a program. Python does not have built-in support for aspect-oriented programming, but it can be achieved using libraries or language extensions.\n",
        "Aspect-oriented programming (AOP) is a programming paradigm that aims to increase modularity by allowing the separation of cross-cutting concerns. AOP provides a way to modularize the concerns that cut across multiple modules of a program. It helps to manage the complexity of large software systems by breaking down the code into smaller, reusable components.\n",
        "\n",
        "To understand AOP in Python, consider the following example:"
      ],
      "metadata": {
        "id": "bjXvf8Ba703G"
      }
    },
    {
      "cell_type": "code",
      "source": [
        "def logging_aspect(func):\n",
        "    def wrapper(*args, **kwargs):\n",
        "        print(\"Logging: Before calling '{}' function.\".format(func.__name__))\n",
        "        result = func(*args, **kwargs)\n",
        "        print(\"Logging: After calling '{}' function.\".format(func.__name__))\n",
        "        return result\n",
        "    return wrapper\n",
        "\n",
        "def my_function(a, b):\n",
        "    print(\"Inside my_function, a: {}, b: {}\".format(a, b))\n",
        "    return a + b\n",
        "\n",
        "my_function = logging_aspect(my_function)\n",
        "\n",
        "my_function(1, 2)\n"
      ],
      "metadata": {
        "colab": {
          "base_uri": "https://localhost:8080/"
        },
        "id": "xYfAvbGw76cO",
        "outputId": "b6d2bcf8-2652-41e5-9647-479f2a56666e"
      },
      "execution_count": null,
      "outputs": [
        {
          "output_type": "stream",
          "name": "stdout",
          "text": [
            "Logging: Before calling 'my_function' function.\n",
            "Inside my_function, a: 1, b: 2\n",
            "Logging: After calling 'my_function' function.\n"
          ]
        },
        {
          "output_type": "execute_result",
          "data": {
            "text/plain": [
              "3"
            ]
          },
          "metadata": {},
          "execution_count": 81
        }
      ]
    },
    {
      "cell_type": "markdown",
      "source": [
        "In this example, the logging aspect is implemented by the logging_aspect function, which takes another function as an argument (func) and returns a new function (wrapper) that wraps the original function. The wrapper function adds the logging statements before and after calling the original function, and returns the result of the original function. The logging aspect is applied to the my_function by assigning the result of logging_aspect(my_function) to the my_function variable.\n",
        "\n",
        "In this way, we have separated the logging concern from the main functionality of my_function, making the code more modular and reusable."
      ],
      "metadata": {
        "id": "yWn8Tduj-KDQ"
      }
    },
    {
      "cell_type": "code",
      "source": [
        "pip install aspectlib"
      ],
      "metadata": {
        "colab": {
          "base_uri": "https://localhost:8080/"
        },
        "id": "CbbGkOxq-xpu",
        "outputId": "5c092013-6f60-4e2d-9a33-3b8e9b6ea45d"
      },
      "execution_count": null,
      "outputs": [
        {
          "output_type": "stream",
          "name": "stdout",
          "text": [
            "Looking in indexes: https://pypi.org/simple, https://us-python.pkg.dev/colab-wheels/public/simple/\n",
            "Collecting aspectlib\n",
            "  Downloading aspectlib-2.0.0-py3-none-any.whl (24 kB)\n",
            "Collecting fields\n",
            "  Downloading fields-5.0.0-py2.py3-none-any.whl (19 kB)\n",
            "Installing collected packages: fields, aspectlib\n",
            "Successfully installed aspectlib-2.0.0 fields-5.0.0\n"
          ]
        }
      ]
    },
    {
      "cell_type": "code",
      "source": [
        "from aspectlib import Aspect\n",
        "\n",
        "def log_call(func):\n",
        "    @functools.wraps(func)\n",
        "    def wrapper(*args, **kwargs):\n",
        "        print(f\"Calling {func.__name__} with args {args} and kwargs {kwargs}\")\n",
        "        result = func(*args, **kwargs)\n",
        "        print(f\"{func.__name__} returned {result}\")\n",
        "        return result\n",
        "    return wrapper\n",
        "\n"
      ],
      "metadata": {
        "id": "v3Ecd_zH-N8F"
      },
      "execution_count": null,
      "outputs": []
    },
    {
      "cell_type": "markdown",
      "source": [
        "**Object-Oriented Programming (OOP):** This paradigm is based on the concept of objects, which are instances of classes. Classes encapsulate data and functions, and objects interact with each other through methods. In OOP, you can define classes and objects, and use inheritance and polymorphism to create complex structures."
      ],
      "metadata": {
        "id": "0qfjN4y_8unh"
      }
    },
    {
      "cell_type": "code",
      "source": [
        "#Example:\n",
        "class Car:\n",
        "    def __init__(self, make, model, year):\n",
        "        self.make = make\n",
        "        self.model = model\n",
        "        self.year = year\n",
        "\n",
        "    def honk(self):\n",
        "        print(\"Beep Beep!\")\n",
        "\n",
        "my_car = Car(\"Toyota\", \"Corolla\", 2020)\n",
        "print(my_car.make, my_car.model, my_car.year)\n",
        "my_car.honk()\n"
      ],
      "metadata": {
        "colab": {
          "base_uri": "https://localhost:8080/"
        },
        "id": "tFj-UWVF8zNx",
        "outputId": "47d962c1-69d1-4e51-dde7-7cf5c158d8a2"
      },
      "execution_count": null,
      "outputs": [
        {
          "output_type": "stream",
          "name": "stdout",
          "text": [
            "Toyota Corolla 2020\n",
            "Beep Beep!\n"
          ]
        }
      ]
    },
    {
      "cell_type": "markdown",
      "source": [
        "Python's support for multiple paradigms makes it a versatile and flexible language, and it allows developers to choose the paradigm that best fits their needs."
      ],
      "metadata": {
        "id": "c7Xoq6Q73Nhy"
      }
    },
    {
      "cell_type": "markdown",
      "source": [
        "**Python Frameworks**\n",
        "\n",
        "Frameworks automate the common implementation of common solutions which gives the flexibility to the users to focus on the application logic instead of the basic routine processes.\n",
        "\n",
        "Frameworks make the life of web developers easier by giving them a structure for app development. They provide common patterns in a web application that are fast, reliable and easily maintainable.\n",
        "\n",
        "Python frameworks help automate common solutions:\n",
        "\n",
        "Web frameworks such as Django, Flask, and Pyramid allow developers to build web applications quickly by providing libraries for handling common tasks such as routing, database access, and template rendering.\n",
        "\n",
        "For example, in **Django**, a framework for building web applications, a developer can easily set up a database model and automatically generate the necessary views and URL routing by using the framework's built-in libraries. Here's an example of setting up a simple database model in Django:"
      ],
      "metadata": {
        "id": "kGF_8z5mAYYA"
      }
    },
    {
      "cell_type": "code",
      "source": [
        "pip install django"
      ],
      "metadata": {
        "colab": {
          "base_uri": "https://localhost:8080/"
        },
        "id": "kTD9wk9IBcLI",
        "outputId": "f8b7cf68-f228-4df9-a1a4-e0c1cc3eb5f8"
      },
      "execution_count": null,
      "outputs": [
        {
          "output_type": "stream",
          "name": "stdout",
          "text": [
            "Looking in indexes: https://pypi.org/simple, https://us-python.pkg.dev/colab-wheels/public/simple/\n",
            "Collecting django\n",
            "  Downloading Django-4.1.6-py3-none-any.whl (8.1 MB)\n",
            "\u001b[2K     \u001b[90m━━━━━━━━━━━━━━━━━━━━━━━━━━━━━━━━━━━━━━━━\u001b[0m \u001b[32m8.1/8.1 MB\u001b[0m \u001b[31m59.4 MB/s\u001b[0m eta \u001b[36m0:00:00\u001b[0m\n",
            "\u001b[?25hCollecting asgiref<4,>=3.5.2\n",
            "  Downloading asgiref-3.6.0-py3-none-any.whl (23 kB)\n",
            "Requirement already satisfied: sqlparse>=0.2.2 in /usr/local/lib/python3.8/dist-packages (from django) (0.4.3)\n",
            "Collecting backports.zoneinfo\n",
            "  Downloading backports.zoneinfo-0.2.1-cp38-cp38-manylinux1_x86_64.whl (74 kB)\n",
            "\u001b[2K     \u001b[90m━━━━━━━━━━━━━━━━━━━━━━━━━━━━━━━━━━━━━━━━\u001b[0m \u001b[32m74.0/74.0 KB\u001b[0m \u001b[31m9.6 MB/s\u001b[0m eta \u001b[36m0:00:00\u001b[0m\n",
            "\u001b[?25hInstalling collected packages: backports.zoneinfo, asgiref, django\n",
            "Successfully installed asgiref-3.6.0 backports.zoneinfo-0.2.1 django-4.1.6\n"
          ]
        }
      ]
    },
    {
      "cell_type": "markdown",
      "source": [
        "Similarly, in Flask, a microweb framework for Python, a developer can handle routing, template rendering, and request handling using a few lines of code. Here's an example of setting up a simple route in Flask.\n"
      ],
      "metadata": {
        "id": "v7yeXQhrAzVK"
      }
    },
    {
      "cell_type": "code",
      "source": [
        "from flask import Flask, render_template\n",
        "\n",
        "app = Flask(__name__)\n",
        "\n",
        "@app.route(\"/\")\n",
        "def home():\n",
        "    return render_template(\"home.html\")\n",
        "\n",
        "if __name__ == \"__main__\":\n",
        "    app.run()\n"
      ],
      "metadata": {
        "colab": {
          "base_uri": "https://localhost:8080/"
        },
        "id": "yi07hRGqA2Gl",
        "outputId": "16a0c4cb-0ec0-40b3-a36a-57e39415fe1e"
      },
      "execution_count": null,
      "outputs": [
        {
          "output_type": "stream",
          "name": "stdout",
          "text": [
            " * Serving Flask app \"__main__\" (lazy loading)\n",
            " * Environment: production\n",
            "\u001b[31m   WARNING: This is a development server. Do not use it in a production deployment.\u001b[0m\n",
            "\u001b[2m   Use a production WSGI server instead.\u001b[0m\n",
            " * Debug mode: off\n"
          ]
        },
        {
          "output_type": "stream",
          "name": "stderr",
          "text": [
            "INFO:werkzeug: * Running on http://127.0.0.1:5000/ (Press CTRL+C to quit)\n"
          ]
        }
      ]
    },
    {
      "cell_type": "markdown",
      "source": [
        "**Pyramid** is a lightweight Python web framework that is suitable for both small and large applications. It is a framework for building high-performing, easily maintainable web applications.\n",
        "\n",
        "Here's an example of how you can use Pyramid to build a simple web application:\n",
        "\n",
        "Install Pyramid: To use Pyramid, you first need to install it. You can do this by running the following command:"
      ],
      "metadata": {
        "id": "f-b4g3v7C5p1"
      }
    },
    {
      "cell_type": "code",
      "source": [
        "pip install pyramid\n"
      ],
      "metadata": {
        "colab": {
          "base_uri": "https://localhost:8080/"
        },
        "id": "d6vLs6QFC6K1",
        "outputId": "a90e0e0d-bd74-441a-daee-7d3039725742"
      },
      "execution_count": null,
      "outputs": [
        {
          "output_type": "stream",
          "name": "stdout",
          "text": [
            "Looking in indexes: https://pypi.org/simple, https://us-python.pkg.dev/colab-wheels/public/simple/\n",
            "Collecting pyramid\n",
            "  Downloading pyramid-2.0.1-py3-none-any.whl (246 kB)\n",
            "\u001b[2K     \u001b[90m━━━━━━━━━━━━━━━━━━━━━━━━━━━━━━━━━━━━━━━\u001b[0m \u001b[32m247.0/247.0 KB\u001b[0m \u001b[31m8.3 MB/s\u001b[0m eta \u001b[36m0:00:00\u001b[0m\n",
            "\u001b[?25hCollecting plaster\n",
            "  Downloading plaster-1.1.2-py2.py3-none-any.whl (11 kB)\n",
            "Requirement already satisfied: setuptools in /usr/local/lib/python3.8/dist-packages (from pyramid) (57.4.0)\n",
            "Collecting zope.interface>=3.8.0\n",
            "  Downloading zope.interface-5.5.2-cp38-cp38-manylinux_2_5_x86_64.manylinux1_x86_64.manylinux_2_12_x86_64.manylinux2010_x86_64.whl (261 kB)\n",
            "\u001b[2K     \u001b[90m━━━━━━━━━━━━━━━━━━━━━━━━━━━━━━━━━━━━━━\u001b[0m \u001b[32m261.4/261.4 KB\u001b[0m \u001b[31m25.7 MB/s\u001b[0m eta \u001b[36m0:00:00\u001b[0m\n",
            "\u001b[?25hCollecting zope.deprecation>=3.5.0\n",
            "  Downloading zope.deprecation-4.4.0-py2.py3-none-any.whl (10 kB)\n",
            "Collecting hupper>=1.5\n",
            "  Downloading hupper-1.11-py3-none-any.whl (25 kB)\n",
            "Collecting plaster-pastedeploy\n",
            "  Downloading plaster_pastedeploy-1.0.1-py2.py3-none-any.whl (7.8 kB)\n",
            "Collecting venusian>=1.0\n",
            "  Downloading venusian-3.0.0-py3-none-any.whl (13 kB)\n",
            "Collecting webob>=1.8.3\n",
            "  Downloading WebOb-1.8.7-py2.py3-none-any.whl (114 kB)\n",
            "\u001b[2K     \u001b[90m━━━━━━━━━━━━━━━━━━━━━━━━━━━━━━━━━━━━━━\u001b[0m \u001b[32m115.0/115.0 KB\u001b[0m \u001b[31m15.4 MB/s\u001b[0m eta \u001b[36m0:00:00\u001b[0m\n",
            "\u001b[?25hCollecting translationstring>=0.4\n",
            "  Downloading translationstring-1.4-py2.py3-none-any.whl (15 kB)\n",
            "Collecting PasteDeploy>=2.0\n",
            "  Downloading PasteDeploy-3.0.1-py3-none-any.whl (16 kB)\n",
            "Installing collected packages: translationstring, zope.interface, zope.deprecation, webob, venusian, plaster, PasteDeploy, hupper, plaster-pastedeploy, pyramid\n",
            "Successfully installed PasteDeploy-3.0.1 hupper-1.11 plaster-1.1.2 plaster-pastedeploy-1.0.1 pyramid-2.0.1 translationstring-1.4 venusian-3.0.0 webob-1.8.7 zope.deprecation-4.4.0 zope.interface-5.5.2\n"
          ]
        }
      ]
    },
    {
      "cell_type": "markdown",
      "source": [
        "Create a new project: Next, you can create a new Pyramid project by using the following command:"
      ],
      "metadata": {
        "id": "Pv7NlDTTEE2G"
      }
    },
    {
      "cell_type": "code",
      "source": [
        "pcreate -s starter my_project\n"
      ],
      "metadata": {
        "id": "kp0mIFGPEH30"
      },
      "execution_count": null,
      "outputs": []
    },
    {
      "cell_type": "markdown",
      "source": [
        "Define your views: In Pyramid, views are the functions that handle incoming HTTP requests. To define a view, you'll need to create a Python function that takes in a request object and returns a response object. Here's an example of a simple view that returns a plain text response:"
      ],
      "metadata": {
        "id": "n7EhVBpQEOXL"
      }
    },
    {
      "cell_type": "code",
      "source": [
        "from pyramid.response import Response\n",
        "from pyramid.view import view_config\n",
        "\n",
        "@view_config(route_name='home')\n",
        "def home_view(request):\n",
        "    return Response(\"Hello, World!\")\n"
      ],
      "metadata": {
        "id": "kb-WxgXdER9d"
      },
      "execution_count": null,
      "outputs": []
    },
    {
      "cell_type": "markdown",
      "source": [
        "Configure your routes: To map URLs to your views, you'll need to configure your routes. This is done using the config.add_route method. Here's an example of how you can configure the home view to be the default page of your application:"
      ],
      "metadata": {
        "id": "SPTo95Y3EVkk"
      }
    },
    {
      "cell_type": "code",
      "source": [
        "def main(global_config, **settings):\n",
        "    config = Configurator(settings=settings)\n",
        "    config.add_route('home', '/')\n",
        "    config.add_view(home_view, route_name='home')\n",
        "    return config.make_wsgi_app()\n"
      ],
      "metadata": {
        "id": "mGUXtQz_EaSu"
      },
      "execution_count": null,
      "outputs": []
    },
    {
      "cell_type": "markdown",
      "source": [
        "Start the server: To start the Pyramid server, you can run the following command:"
      ],
      "metadata": {
        "id": "aejTgU1KEfV3"
      }
    },
    {
      "cell_type": "code",
      "source": [
        "pserve development.ini\n"
      ],
      "metadata": {
        "id": "udl0bba1Ehlk"
      },
      "execution_count": null,
      "outputs": []
    },
    {
      "cell_type": "markdown",
      "source": [
        "This is just a simple example of how you can use Pyramid to build a web application. There are many more features and options available in Pyramid, so be sure to check out the official documentation for more information."
      ],
      "metadata": {
        "id": "ZK-mSWhnEhG0"
      }
    },
    {
      "cell_type": "markdown",
      "source": [
        "**Synchronous frameworks** in python handle the flow of data in a synchronous manner. On a s̲y̲n̲c̲h̲r̲o̲n̲o̲u̲s̲ request, you make the request and stop executing your program until you get a response from the HTTP server (or an error if the server can't be reached, or a timeout if the sever is taking way, way too long to reply) The interpreter is blocked until the request is completed (until you got a definitive answer of what happened with the request: did it go well? was there an error? a timeout?... ). Illustrate this with a script."
      ],
      "metadata": {
        "id": "m6nn5vbvFJFf"
      }
    },
    {
      "cell_type": "code",
      "source": [
        "import requests\n",
        "\n",
        "response = requests.get(\"http://www.example.com\")\n",
        "\n",
        "if response.status_code == 200:\n",
        "    print(response.text)\n",
        "else:\n",
        "    print(\"Request failed with status code:\", response.status_code)\n"
      ],
      "metadata": {
        "colab": {
          "base_uri": "https://localhost:8080/"
        },
        "id": "j8_9vJPSFNh4",
        "outputId": "46aa2ef9-6ddc-40a4-cffa-a27f8458655a"
      },
      "execution_count": null,
      "outputs": [
        {
          "output_type": "stream",
          "name": "stdout",
          "text": [
            "<!doctype html>\n",
            "<html>\n",
            "<head>\n",
            "    <title>Example Domain</title>\n",
            "\n",
            "    <meta charset=\"utf-8\" />\n",
            "    <meta http-equiv=\"Content-type\" content=\"text/html; charset=utf-8\" />\n",
            "    <meta name=\"viewport\" content=\"width=device-width, initial-scale=1\" />\n",
            "    <style type=\"text/css\">\n",
            "    body {\n",
            "        background-color: #f0f0f2;\n",
            "        margin: 0;\n",
            "        padding: 0;\n",
            "        font-family: -apple-system, system-ui, BlinkMacSystemFont, \"Segoe UI\", \"Open Sans\", \"Helvetica Neue\", Helvetica, Arial, sans-serif;\n",
            "        \n",
            "    }\n",
            "    div {\n",
            "        width: 600px;\n",
            "        margin: 5em auto;\n",
            "        padding: 2em;\n",
            "        background-color: #fdfdff;\n",
            "        border-radius: 0.5em;\n",
            "        box-shadow: 2px 3px 7px 2px rgba(0,0,0,0.02);\n",
            "    }\n",
            "    a:link, a:visited {\n",
            "        color: #38488f;\n",
            "        text-decoration: none;\n",
            "    }\n",
            "    @media (max-width: 700px) {\n",
            "        div {\n",
            "            margin: 0 auto;\n",
            "            width: auto;\n",
            "        }\n",
            "    }\n",
            "    </style>    \n",
            "</head>\n",
            "\n",
            "<body>\n",
            "<div>\n",
            "    <h1>Example Domain</h1>\n",
            "    <p>This domain is for use in illustrative examples in documents. You may use this\n",
            "    domain in literature without prior coordination or asking for permission.</p>\n",
            "    <p><a href=\"https://www.iana.org/domains/example\">More information...</a></p>\n",
            "</div>\n",
            "</body>\n",
            "</html>\n",
            "\n"
          ]
        }
      ]
    },
    {
      "cell_type": "markdown",
      "source": [
        "In this code, we use the requests.get function to make a GET request to the specified URL (in this case, \"http://www.example.com\"). The requests.get function blocks the interpreter and waits for the response from the server. Once the response is received, the code checks the status_code attribute of the response object to determine if the request was successful (status code 200) or not. If the request was successful, the response.text attribute is printed. If not, a message indicating the failed request is printed.\n",
        "\n",
        "Note that in this example, the interpreter is blocked and waits for the response from the server. This means that while the request is in progress, your program will not be able to do anything else."
      ],
      "metadata": {
        "id": "4RO66CsqG3Ce"
      }
    },
    {
      "cell_type": "markdown",
      "source": [
        "**FastAPI** is a modern, fast (high-performance) web framework for building APIs with Python 3.7+ based on standard Python type hints. FastAPI is built on top of Starlette for the web parts, and Pydantic for the data parts.\n",
        "\n",
        "Here's a step-by-step explanation of how to build a basic API using FastAPI:\n",
        "\n",
        "Installing FastAPI: Before starting, you will need to install the FastAPI library by running pip install fastapi.\n",
        "\n",
        "Creating a new FastAPI application: Start by creating a new Python file (e.g. app.py) and import FastAPI. Initialize a new instance of the FastAPI class:\n",
        "\n"
      ],
      "metadata": {
        "id": "XckyktnhJfpb"
      }
    },
    {
      "cell_type": "code",
      "source": [
        "pip install fastapi"
      ],
      "metadata": {
        "colab": {
          "base_uri": "https://localhost:8080/"
        },
        "id": "_0IYOEDoNSQZ",
        "outputId": "fa53622a-d15b-4695-8a29-b9044304c0aa"
      },
      "execution_count": null,
      "outputs": [
        {
          "output_type": "stream",
          "name": "stdout",
          "text": [
            "Looking in indexes: https://pypi.org/simple, https://us-python.pkg.dev/colab-wheels/public/simple/\n",
            "Collecting fastapi\n",
            "  Downloading fastapi-0.89.1-py3-none-any.whl (55 kB)\n",
            "\u001b[2K     \u001b[90m━━━━━━━━━━━━━━━━━━━━━━━━━━━━━━━━━━━━━━━━\u001b[0m \u001b[32m55.8/55.8 KB\u001b[0m \u001b[31m4.9 MB/s\u001b[0m eta \u001b[36m0:00:00\u001b[0m\n",
            "\u001b[?25hRequirement already satisfied: pydantic!=1.7,!=1.7.1,!=1.7.2,!=1.7.3,!=1.8,!=1.8.1,<2.0.0,>=1.6.2 in /usr/local/lib/python3.8/dist-packages (from fastapi) (1.10.4)\n",
            "Collecting starlette==0.22.0\n",
            "  Downloading starlette-0.22.0-py3-none-any.whl (64 kB)\n",
            "\u001b[2K     \u001b[90m━━━━━━━━━━━━━━━━━━━━━━━━━━━━━━━━━━━━━━━━\u001b[0m \u001b[32m64.3/64.3 KB\u001b[0m \u001b[31m5.6 MB/s\u001b[0m eta \u001b[36m0:00:00\u001b[0m\n",
            "\u001b[?25hRequirement already satisfied: typing-extensions>=3.10.0 in /usr/local/lib/python3.8/dist-packages (from starlette==0.22.0->fastapi) (4.4.0)\n",
            "Collecting anyio<5,>=3.4.0\n",
            "  Downloading anyio-3.6.2-py3-none-any.whl (80 kB)\n",
            "\u001b[2K     \u001b[90m━━━━━━━━━━━━━━━━━━━━━━━━━━━━━━━━━━━━━━━━\u001b[0m \u001b[32m80.6/80.6 KB\u001b[0m \u001b[31m11.7 MB/s\u001b[0m eta \u001b[36m0:00:00\u001b[0m\n",
            "\u001b[?25hCollecting sniffio>=1.1\n",
            "  Downloading sniffio-1.3.0-py3-none-any.whl (10 kB)\n",
            "Requirement already satisfied: idna>=2.8 in /usr/local/lib/python3.8/dist-packages (from anyio<5,>=3.4.0->starlette==0.22.0->fastapi) (2.10)\n",
            "Installing collected packages: sniffio, anyio, starlette, fastapi\n",
            "Successfully installed anyio-3.6.2 fastapi-0.89.1 sniffio-1.3.0 starlette-0.22.0\n"
          ]
        }
      ]
    },
    {
      "cell_type": "markdown",
      "source": [
        "Creating a new FastAPI application: Start by creating a new Python file (e.g. app.py) and import FastAPI. Initialize a new instance of the FastAPI class:"
      ],
      "metadata": {
        "id": "CqWQpXHRNaBR"
      }
    },
    {
      "cell_type": "code",
      "source": [
        "from fastapi import FastAPI\n",
        "app = FastAPI()\n"
      ],
      "metadata": {
        "id": "w1nheyimJ8im"
      },
      "execution_count": null,
      "outputs": []
    },
    {
      "cell_type": "markdown",
      "source": [
        "Define a Route: In FastAPI, you define routes to handle incoming requests using decorators. A decorator is a special type of function that modifies the behavior of another function. To create a new route, use the @app.route decorator and specify the URL path for the route:"
      ],
      "metadata": {
        "id": "VD0zKllINKVS"
      }
    },
    {
      "cell_type": "code",
      "source": [
        "@app.route(\"/\")\n",
        "async def root():\n",
        "    return {\"message\": \"Hello World\"}\n"
      ],
      "metadata": {
        "id": "wMADfDRaNjJK"
      },
      "execution_count": null,
      "outputs": []
    },
    {
      "cell_type": "markdown",
      "source": [
        "Running the API: To start the API, call uvicorn and pass in the name of the file (e.g. app.py) that contains your FastAPI application. You can specify the host and port to bind to by adding the --host and --port options:"
      ],
      "metadata": {
        "id": "5lDsKzYaNnA6"
      }
    },
    {
      "cell_type": "code",
      "source": [
        "#un in the command line or terminal\n",
        "uvicorn app:app --reload\n"
      ],
      "metadata": {
        "id": "awM0zDtBNoqj"
      },
      "execution_count": null,
      "outputs": []
    },
    {
      "cell_type": "markdown",
      "source": [
        "To use FastAPI, you'll need to create a .py file in your project directory, then open the terminal or command line in that directory, and run the command uvicorn app:app --reload to start the FastAPI application."
      ],
      "metadata": {
        "id": "mUSv_f7MOaqL"
      }
    },
    {
      "cell_type": "markdown",
      "source": [
        "Testing the API: You can test your API by sending a GET request to the endpoint using a tool such as Postman or by using a requests library in Python:"
      ],
      "metadata": {
        "id": "VZC2GzFlNswB"
      }
    },
    {
      "cell_type": "code",
      "source": [
        "import requests\n",
        "\n",
        "response = requests.get(\"http://localhost:8000/\")\n",
        "print(response.json())\n"
      ],
      "metadata": {
        "id": "bVWiTHkcN1YB"
      },
      "execution_count": null,
      "outputs": []
    },
    {
      "cell_type": "markdown",
      "source": [],
      "metadata": {
        "id": "Pz0mKNZXTUsP"
      }
    },
    {
      "cell_type": "markdown",
      "source": [
        "**Asynchronous programming** is a type of parallel programming in which a unit of work is allowed to run separately from the primary application thread. When the work is complete, it notifies the main thread about completion or failure of the worker thread. This style is mostly concerned with the asynchronous execution of tasks. Python has several asynchronous frameworks that are used to implement asynchronous programming.\n",
        "Asynchronous programming is a way of writing code that allows multiple tasks to run concurrently. This means that while one task is executing, another task can start executing, and both tasks can run simultaneously. This can greatly improve the performance of your code, especially if the tasks are I/O-bound or have long wait times.\n",
        "\n",
        "To implement asynchronous programming in Python, you can use one of several asynchronous frameworks. Some popular frameworks include asyncio, Twisted, and Tornado.\n",
        "\n",
        "Here is a simple example that demonstrates how to use asyncio for asynchronous programming in Python:"
      ],
      "metadata": {
        "id": "MKo-gvlvUppL"
      }
    },
    {
      "cell_type": "code",
      "source": [
        "import asyncio\n",
        "\n",
        "async def fetch_data(url):\n",
        "    # Perform I/O-bound tasks, such as fetching data from a remote server\n",
        "    # ...\n",
        "    return data\n",
        "\n",
        "async def main():\n",
        "    # Schedule multiple tasks concurrently\n",
        "    task1 = asyncio.create_task(fetch_data(\"https://example.com/data1\"))\n",
        "    task2 = asyncio.create_task(fetch_data(\"https://example.com/data2\"))\n",
        "    \n",
        "    # Wait for all tasks to complete\n",
        "    await asyncio.gather(task1, task2)\n",
        "\n",
        "# Run the main function in an event loop\n",
        "asyncio.run(main())\n"
      ],
      "metadata": {
        "id": "QSLL5auQUv7Z"
      },
      "execution_count": null,
      "outputs": []
    },
    {
      "cell_type": "markdown",
      "source": [
        "In this example, we define two functions fetch_data and main. fetch_data is an asynchronous function that performs I/O-bound tasks, such as fetching data from a remote server. main is also an asynchronous function that schedules two tasks using asyncio.create_task and waits for both tasks to complete using asyncio.gather.\n",
        "\n",
        "Finally, we run the main function in an event loop using asyncio.run, which allows the tasks to run concurrently. This is just a simple example to illustrate the basics of asynchronous programming in Python. You can use similar patterns to implement more complex and scalable applications.\n",
        "\n",
        "**Asynchronous Web Frameworks for Python**\n",
        "1. Tornado\n",
        "\n",
        "2. Sanic\n",
        "\n",
        "3. Vibora\n",
        "\n",
        "4. Quart\n",
        "\n",
        "5. FastAPI\n",
        "\n",
        "6. BlackSheep\n",
        "\n",
        "7. AIOHTTP\n",
        "\n",
        "8. Falcon\n",
        "\n",
        "9. Starlette"
      ],
      "metadata": {
        "id": "A9SA15D8U42w"
      }
    },
    {
      "cell_type": "markdown",
      "source": [
        "**Tornado** is an open-source, scalable, and non-blocking web server framework written in Python. It's widely used for building high-performance web applications. The following is a step by step explanation of how to use Tornado for asynchronous programming:\n",
        "\n",
        "1. Install Tornado: To use Tornado, you need to install it first. You can install it using pip with the following command:\n"
      ],
      "metadata": {
        "id": "Ta8h15wOV4yF"
      }
    },
    {
      "cell_type": "code",
      "source": [
        "pip install tornado\n"
      ],
      "metadata": {
        "colab": {
          "base_uri": "https://localhost:8080/"
        },
        "id": "yNg4mwb2WRGA",
        "outputId": "93899ea8-76d5-4cf2-eaf6-c1765ae1dd66"
      },
      "execution_count": 2,
      "outputs": [
        {
          "output_type": "stream",
          "name": "stdout",
          "text": [
            "Looking in indexes: https://pypi.org/simple, https://us-python.pkg.dev/colab-wheels/public/simple/\n",
            "Requirement already satisfied: tornado in /usr/local/lib/python3.8/dist-packages (6.0.4)\n"
          ]
        }
      ]
    },
    {
      "cell_type": "markdown",
      "source": [
        "2. Import Tornado: You need to import Tornado into your Python script in order to use it. The following line of code will import Tornado into your script:"
      ],
      "metadata": {
        "id": "MmKPHtxLWacn"
      }
    },
    {
      "cell_type": "code",
      "source": [
        "import tornado.ioloop\n",
        "import tornado.web\n"
      ],
      "metadata": {
        "id": "ZAzsL5P-U9H_"
      },
      "execution_count": 3,
      "outputs": []
    },
    {
      "cell_type": "markdown",
      "source": [
        "3. Define the Application: In Tornado, an application is a collection of RequestHandlers that listen for incoming HTTP requests and return HTTP responses. You can define your application by subclassing tornado.web.Application and passing in a list of URL patterns and their corresponding request handlers. The following code defines a simple Tornado application that listens for incoming HTTP requests on the / URL path:"
      ],
      "metadata": {
        "id": "EvjrAsK4WgHo"
      }
    },
    {
      "cell_type": "code",
      "source": [
        "class MainHandler(tornado.web.RequestHandler):\n",
        "    def get(self):\n",
        "        self.write(\"Hello, Tornado!\")\n",
        "\n",
        "def make_app():\n",
        "    return tornado.web.Application([\n",
        "        (r\"/\", MainHandler),\n",
        "    ])\n"
      ],
      "metadata": {
        "id": "-azAZmExWlkp"
      },
      "execution_count": 4,
      "outputs": []
    },
    {
      "cell_type": "markdown",
      "source": [
        "4. Start the Application: Once you have defined your application, you can start it by creating an instance of tornado.ioloop.IOLoop and calling its start() method. The following code starts the Tornado application:"
      ],
      "metadata": {
        "id": "O1f6aTP3Www5"
      }
    },
    {
      "cell_type": "code",
      "source": [
        "if __name__ == \"__main__\":\n",
        "    app = make_app()\n",
        "    app.listen(8000)\n",
        "    tornado.ioloop.IOLoop.current().start()\n"
      ],
      "metadata": {
        "id": "K3grrS1AW22a"
      },
      "execution_count": null,
      "outputs": []
    },
    {
      "cell_type": "markdown",
      "source": [
        "5. Test the Application: You can test the Tornado application by accessing http://localhost:8000 in your web browser. You should see the message \"Hello, Tornado!\" displayed in your browser.\n",
        "This is a basic example of how to use Tornado for asynchronous programming. You can build more complex applications by adding additional URL patterns and request handlers to your Tornado application."
      ],
      "metadata": {
        "id": "NUJ-sm0iXXCQ"
      }
    },
    {
      "cell_type": "markdown",
      "source": [
        "**Sanic** is a Python web framework built on top of asyncio, designed to provide fast HTTP response through asynchronous and non-blocking network I/O.\n",
        "\n",
        "Here is a step by step script to demonstrate the use of Sanic:\n",
        "\n",
        "Step 1: Install Sanic by running the following command:"
      ],
      "metadata": {
        "id": "wbFDeFTXZr3h"
      }
    },
    {
      "cell_type": "code",
      "source": [
        "pip install sanic\n"
      ],
      "metadata": {
        "colab": {
          "base_uri": "https://localhost:8080/"
        },
        "id": "MYQdxp3AZwb-",
        "outputId": "e0a13982-5c6f-48cb-aaae-b711ca9fad7a"
      },
      "execution_count": 6,
      "outputs": [
        {
          "output_type": "stream",
          "name": "stdout",
          "text": [
            "Looking in indexes: https://pypi.org/simple, https://us-python.pkg.dev/colab-wheels/public/simple/\n",
            "Collecting sanic\n",
            "  Downloading sanic-22.12.0-py3-none-any.whl (183 kB)\n",
            "\u001b[2K     \u001b[90m━━━━━━━━━━━━━━━━━━━━━━━━━━━━━━━━━━━━━━\u001b[0m \u001b[32m183.1/183.1 KB\u001b[0m \u001b[31m13.2 MB/s\u001b[0m eta \u001b[36m0:00:00\u001b[0m\n",
            "\u001b[?25hRequirement already satisfied: multidict<7.0,>=5.0 in /usr/local/lib/python3.8/dist-packages (from sanic) (6.0.4)\n",
            "Collecting ujson>=1.35\n",
            "  Downloading ujson-5.7.0-cp38-cp38-manylinux_2_17_x86_64.manylinux2014_x86_64.whl (52 kB)\n",
            "\u001b[2K     \u001b[90m━━━━━━━━━━━━━━━━━━━━━━━━━━━━━━━━━━━━━━━━\u001b[0m \u001b[32m52.8/52.8 KB\u001b[0m \u001b[31m4.7 MB/s\u001b[0m eta \u001b[36m0:00:00\u001b[0m\n",
            "\u001b[?25hCollecting websockets>=10.0\n",
            "  Downloading websockets-10.4-cp38-cp38-manylinux_2_5_x86_64.manylinux1_x86_64.manylinux_2_17_x86_64.manylinux2014_x86_64.whl (106 kB)\n",
            "\u001b[2K     \u001b[90m━━━━━━━━━━━━━━━━━━━━━━━━━━━━━━━━━━━━━━━\u001b[0m \u001b[32m107.0/107.0 KB\u001b[0m \u001b[31m9.8 MB/s\u001b[0m eta \u001b[36m0:00:00\u001b[0m\n",
            "\u001b[?25hCollecting uvloop>=0.15.0\n",
            "  Downloading uvloop-0.17.0-cp38-cp38-manylinux_2_17_x86_64.manylinux2014_x86_64.whl (4.6 MB)\n",
            "\u001b[2K     \u001b[90m━━━━━━━━━━━━━━━━━━━━━━━━━━━━━━━━━━━━━━━━\u001b[0m \u001b[32m4.6/4.6 MB\u001b[0m \u001b[31m102.2 MB/s\u001b[0m eta \u001b[36m0:00:00\u001b[0m\n",
            "\u001b[?25hCollecting httptools>=0.0.10\n",
            "  Downloading httptools-0.5.0-cp38-cp38-manylinux_2_5_x86_64.manylinux1_x86_64.manylinux_2_17_x86_64.manylinux2014_x86_64.whl (427 kB)\n",
            "\u001b[2K     \u001b[90m━━━━━━━━━━━━━━━━━━━━━━━━━━━━━━━━━━━━━━\u001b[0m \u001b[32m427.8/427.8 KB\u001b[0m \u001b[31m36.8 MB/s\u001b[0m eta \u001b[36m0:00:00\u001b[0m\n",
            "\u001b[?25hCollecting sanic-routing>=22.8.0\n",
            "  Downloading sanic_routing-22.8.0-py3-none-any.whl (25 kB)\n",
            "Collecting aiofiles>=0.6.0\n",
            "  Downloading aiofiles-22.1.0-py3-none-any.whl (14 kB)\n",
            "Installing collected packages: sanic-routing, websockets, uvloop, ujson, httptools, aiofiles, sanic\n",
            "Successfully installed aiofiles-22.1.0 httptools-0.5.0 sanic-22.12.0 sanic-routing-22.8.0 ujson-5.7.0 uvloop-0.17.0 websockets-10.4\n"
          ]
        }
      ]
    },
    {
      "cell_type": "markdown",
      "source": [
        "Step 2: Create a Python file for your application, for example app.py.\n"
      ],
      "metadata": {
        "id": "ITssFkO2Z2aI"
      }
    },
    {
      "cell_type": "markdown",
      "source": [
        "Step 3: Import the Sanic module and create a Sanic app:"
      ],
      "metadata": {
        "id": "uJIIKqViZ_c4"
      }
    },
    {
      "cell_type": "code",
      "source": [
        "from sanic import Sanic\n",
        "from sanic.response import json\n",
        "\n",
        "app = Sanic()\n"
      ],
      "metadata": {
        "id": "B4PumYanZ5fv"
      },
      "execution_count": null,
      "outputs": []
    },
    {
      "cell_type": "markdown",
      "source": [
        "Step 4: Define a route with a simple endpoint:"
      ],
      "metadata": {
        "id": "wN4WmfePaSoI"
      }
    },
    {
      "cell_type": "code",
      "source": [
        "@app.route(\"/\")\n",
        "async def test(request):\n",
        "    return json({\"hello\": \"world\"})\n"
      ],
      "metadata": {
        "id": "HRKAycBMaU3R"
      },
      "execution_count": null,
      "outputs": []
    },
    {
      "cell_type": "markdown",
      "source": [
        "Step 5: Start the Sanic server:"
      ],
      "metadata": {
        "id": "P9jGiST9ablC"
      }
    },
    {
      "cell_type": "code",
      "source": [
        "if __name__ == \"__main__\":\n",
        "    app.run(host=\"0.0.0.0\", port=8000)\n"
      ],
      "metadata": {
        "id": "1YpYoHO5adCD"
      },
      "execution_count": null,
      "outputs": []
    },
    {
      "cell_type": "markdown",
      "source": [
        "Step 6: Test the endpoint by making a request to http://localhost:8000/ using a browser or a tool like curl in the command line.\n",
        "\n",
        "That's it! You have created a simple RESTful API using Sanic. You can continue to add more routes and functionality to your application based on your requirements."
      ],
      "metadata": {
        "id": "sPK_PY5BahwC"
      }
    },
    {
      "cell_type": "markdown",
      "source": [],
      "metadata": {
        "id": "CrhCetobakyJ"
      }
    },
    {
      "cell_type": "markdown",
      "source": [
        "**gevent** is a Python library that provides a high-level interface to the event loop. It is based on non-blocking IO (libevent/libev) and lightweight greenlets. Non-blocking IO means requests waiting for network IO won't block other requests; greenlets mean we can continue to write code in synchronous style. Write a script with a step by step about gevent.\n",
        "\n",
        "Here's a simple script to demonstrate how to use gevent to create a non-blocking, asynchronous HTTP server:"
      ],
      "metadata": {
        "id": "w2g8GBVLbFce"
      }
    },
    {
      "cell_type": "code",
      "source": [
        "import gevent\n",
        "from gevent.pywsgi import WSGIServer\n",
        "\n",
        "def hello_world(env, start_response):\n",
        "    start_response('200 OK', [('Content-Type', 'text/html')])\n",
        "    return [b'Hello World']\n",
        "\n",
        "http_server = WSGIServer(('', 8000), hello_world)\n",
        "http_server.serve_forever()\n"
      ],
      "metadata": {
        "id": "GDu-88ikbOs5"
      },
      "execution_count": null,
      "outputs": []
    },
    {
      "cell_type": "markdown",
      "source": [
        "Explanation:\n",
        "\n",
        "1. Import the gevent module and the WSGIServer class from the gevent.pywsgi module.\n",
        "\n",
        "2. Define a simple hello_world function that takes two arguments: env and start_response. This function will return the response to HTTP requests to our server.\n",
        "\n",
        "3. Create an instance of the WSGIServer class, passing in two arguments: ('', 8000), which represents the address and port to bind the server to, and hello_world, which is the callback function that will handle incoming HTTP requests.\n",
        "\n",
        "4. Call the serve_forever method on the http_server object to start the server and keep it running.\n",
        "\n",
        "This script will start an HTTP server that listens on port 8000 and returns \"Hello World\" for all requests. Because the server uses gevent, it is able to handle multiple requests concurrently, without blocking the event loop."
      ],
      "metadata": {
        "id": "zQphKni-bY7L"
      }
    },
    {
      "cell_type": "markdown",
      "source": [
        "**Aiohttp** is an asynchronous framework for Python that allows you to easily create HTTP clients and servers. The library is built on top of the asyncio library, which is part of the Python standard library, and it provides an easy-to-use interface for making HTTP requests and handling responses asynchronously.\n",
        "\n",
        "Here's a step-by-step script to get started with aiohttp:\n",
        "\n",
        "1. Installation: To install aiohttp, you can use the pip package manager. Open up your terminal or command prompt and run the following command:"
      ],
      "metadata": {
        "id": "2-VDu1uybm_4"
      }
    },
    {
      "cell_type": "code",
      "source": [
        "pip install aiohttp\n"
      ],
      "metadata": {
        "colab": {
          "base_uri": "https://localhost:8080/"
        },
        "id": "Sgi0RBpmcHnc",
        "outputId": "43130cd8-ffe8-44a2-b8d4-60d3c5dfeb02"
      },
      "execution_count": 11,
      "outputs": [
        {
          "output_type": "stream",
          "name": "stdout",
          "text": [
            "Looking in indexes: https://pypi.org/simple, https://us-python.pkg.dev/colab-wheels/public/simple/\n",
            "Requirement already satisfied: aiohttp in /usr/local/lib/python3.8/dist-packages (3.8.3)\n",
            "Requirement already satisfied: yarl<2.0,>=1.0 in /usr/local/lib/python3.8/dist-packages (from aiohttp) (1.8.2)\n",
            "Requirement already satisfied: charset-normalizer<3.0,>=2.0 in /usr/local/lib/python3.8/dist-packages (from aiohttp) (2.1.1)\n",
            "Requirement already satisfied: attrs>=17.3.0 in /usr/local/lib/python3.8/dist-packages (from aiohttp) (22.2.0)\n",
            "Requirement already satisfied: async-timeout<5.0,>=4.0.0a3 in /usr/local/lib/python3.8/dist-packages (from aiohttp) (4.0.2)\n",
            "Requirement already satisfied: frozenlist>=1.1.1 in /usr/local/lib/python3.8/dist-packages (from aiohttp) (1.3.3)\n",
            "Requirement already satisfied: aiosignal>=1.1.2 in /usr/local/lib/python3.8/dist-packages (from aiohttp) (1.3.1)\n",
            "Requirement already satisfied: multidict<7.0,>=4.5 in /usr/local/lib/python3.8/dist-packages (from aiohttp) (6.0.4)\n",
            "Requirement already satisfied: idna>=2.0 in /usr/local/lib/python3.8/dist-packages (from yarl<2.0,>=1.0->aiohttp) (2.10)\n"
          ]
        }
      ]
    },
    {
      "cell_type": "markdown",
      "source": [
        "2. Importing the library: In order to use aiohttp in your Python script, you'll need to import it. To do this, add the following line to the top of your script:"
      ],
      "metadata": {
        "id": "cGv1FdvWcK7B"
      }
    },
    {
      "cell_type": "code",
      "source": [
        "import aiohttp\n"
      ],
      "metadata": {
        "id": "-us4_GG0cPcb"
      },
      "execution_count": 12,
      "outputs": []
    },
    {
      "cell_type": "markdown",
      "source": [
        "3. Creating a session: To use aiohttp, you'll need to create an aiohttp session. A session is a high-level object that contains all the state required to perform requests. To create a session, you'll use the aiohttp.ClientSession class. Here's an example:"
      ],
      "metadata": {
        "id": "UaEgnjQ4cTGo"
      }
    },
    {
      "cell_type": "code",
      "source": [
        "async def main():\n",
        "    async with aiohttp.ClientSession() as session:\n",
        "        # Perform requests here\n"
      ],
      "metadata": {
        "id": "-dFOGYTicXkZ"
      },
      "execution_count": null,
      "outputs": []
    },
    {
      "cell_type": "markdown",
      "source": [
        "4. Making requests: To make a request using aiohttp, you'll use the session.get() method. This method returns a response object, which you can use to access the content of the response. Here's an example:"
      ],
      "metadata": {
        "id": "RwQgqWxscdpD"
      }
    },
    {
      "cell_type": "code",
      "source": [
        "async def main():\n",
        "    async with aiohttp.ClientSession() as session:\n",
        "        async with session.get('https://www.example.com') as response:\n",
        "            content = await response.text()\n",
        "            print(content)\n"
      ],
      "metadata": {
        "id": "F8kyCG_-ckyy"
      },
      "execution_count": 14,
      "outputs": []
    },
    {
      "cell_type": "markdown",
      "source": [
        "5. Running the code: To run the code, you'll need to create an event loop and run the main() function inside it. Here's an example:"
      ],
      "metadata": {
        "id": "v8Er3oJ4cnHH"
      }
    },
    {
      "cell_type": "code",
      "source": [
        "import asyncio\n",
        "asyncio.run(main())\n"
      ],
      "metadata": {
        "id": "cHhedBqDcsEP"
      },
      "execution_count": null,
      "outputs": []
    },
    {
      "cell_type": "markdown",
      "source": [
        "And that's it! With these few steps, you should be able to get started with aiohttp and make asynchronous HTTP requests in Python."
      ],
      "metadata": {
        "id": "bJn7HyMYcvqI"
      }
    },
    {
      "cell_type": "markdown",
      "source": [
        "**Testing**\n",
        "\n",
        "A key to building software that meets requirements without defects is testing. Software testing helps developers know they are building the right software. When tests are run as part of the development process (often with continuous integration tools), they build confidence and prevent regressions in the code.\n"
      ],
      "metadata": {
        "id": "orMv_418c2CI"
      }
    },
    {
      "cell_type": "markdown",
      "source": [
        "**Testing** is a crucial step in software development that ensures that the software meets the requirements without defects. There are several types of testing that can be performed, including unit testing, integration testing, and acceptance testing.\n",
        "\n",
        "**Unit testing** focuses on individual components of the software and verifies that they function as expected. The tests are typically automated and run every time code is changed to catch any regressions in the software.\n",
        "\n",
        "**Integration testing** focuses on verifying that different components of the software work together as expected. The goal is to catch any problems that may arise when components are combined.\n",
        "\n",
        "**Acceptance testing** focuses on verifying that the software meets the requirements specified by the client or customer. This type of testing is typically performed by the customer or a representative of the customer.\n",
        "\n",
        "Here's a simple example of how to perform unit testing in Python using the built-in unittest library:"
      ],
      "metadata": {
        "id": "1t8ZpMY_ehAb"
      }
    },
    {
      "cell_type": "code",
      "source": [
        "import unittest\n",
        "\n",
        "def add(a, b):\n",
        "    return a + b\n",
        "\n",
        "class TestAddFunction(unittest.TestCase):\n",
        "    def test_add_function(self):\n",
        "        self.assertEqual(add(1, 2), 3)\n",
        "        self.assertEqual(add(0, 0), 0)\n",
        "        self.assertEqual(add(-1, 1), 0)\n",
        "\n",
        "if __name__ == '__main__':\n",
        "    unittest.main()\n"
      ],
      "metadata": {
        "id": "LNZdAFbWe0Ch"
      },
      "execution_count": null,
      "outputs": []
    },
    {
      "cell_type": "markdown",
      "source": [
        "In this example, we have a simple add function that takes two arguments and returns their sum. The unittest library is used to test the function by creating a test case class (TestAddFunction) that inherits from unittest.TestCase. The test case contains test methods (test_add_function) that use the assertEqual method to verify that the add function returns the expected result.\n",
        "\n",
        "Running the script will produce the following output:"
      ],
      "metadata": {
        "id": "Y2o0AqVNe_Vp"
      }
    },
    {
      "cell_type": "code",
      "source": [
        "..\n",
        "----------------------------------------------------------------------\n",
        "Ran 2 tests in 0.000s\n",
        "\n",
        "OK\n"
      ],
      "metadata": {
        "id": "7t528lelfByw"
      },
      "execution_count": null,
      "outputs": []
    },
    {
      "cell_type": "markdown",
      "source": [
        "This output indicates that two tests were run and that they both passed.\n",
        "\n",
        "In conclusion, testing is an essential step in software development that helps developers build software that meets requirements without defects. Automated testing, as shown in this example, can be performed using various testing frameworks, including the built-in unittest library in Python."
      ],
      "metadata": {
        "id": "fFIQ8L37fJFw"
      }
    },
    {
      "cell_type": "markdown",
      "source": [
        "**Doctest** is a module in Python's standard library that allows developers to test their code by writing test cases in the form of interactive Python sessions within the code's documentation. It searches the code for these sessions and executes them to verify that the code produces the expected results. Here's an example of how to use doctest in a Python script:"
      ],
      "metadata": {
        "id": "c7_XLSMPf-7y"
      }
    },
    {
      "cell_type": "code",
      "source": [
        "def square(n):\n",
        "    \"\"\"\n",
        "    This function returns the square of a number.\n",
        "    \n",
        "    >>> square(2)\n",
        "    4\n",
        "    >>> square(-2)\n",
        "    4\n",
        "    >>> square(0)\n",
        "    0\n",
        "    \"\"\"\n",
        "    return n*n\n",
        "\n",
        "if __name__ == '__main__':\n",
        "    import doctest\n",
        "    doctest.testmod()\n"
      ],
      "metadata": {
        "colab": {
          "base_uri": "https://localhost:8080/"
        },
        "id": "sSkHUPvIgDNi",
        "outputId": "10700caa-9a7f-4993-cc71-ac65fa0795dd"
      },
      "execution_count": 17,
      "outputs": [
        {
          "output_type": "stream",
          "name": "stderr",
          "text": [
            "\n",
            "PYDEV DEBUGGER WARNING:\n",
            "sys.settrace() should not be used when the debugger is being used.\n",
            "This may cause the debugger to stop working correctly.\n",
            "If this is needed, please check: \n",
            "http://pydev.blogspot.com/2007/06/why-cant-pydev-debugger-work-with.html\n",
            "to see how to restore the debug tracing back correctly.\n",
            "Call Location:\n",
            "  File \"/usr/lib/python3.8/doctest.py\", line 1487, in run\n",
            "    sys.settrace(save_trace)\n",
            "\n"
          ]
        }
      ]
    },
    {
      "cell_type": "markdown",
      "source": [
        "1. Define a function square that takes in a number n and returns its square.\n",
        "2. Write test cases in the form of interactive Python sessions within the function's documentation block (triple-quoted string).\n",
        "3. Import the doctest module.\n",
        "4. Call the testmod function from the doctest module.\n",
        "5. When the script is run, doctest will search for test cases in the documentation block and execute them, checking that the code produces the expected output.\n",
        "\n",
        "In this example, the test cases verify that the square function returns the correct result for different inputs (2, -2, and 0). If the function implementation is incorrect, the tests will fail and the error will be reported."
      ],
      "metadata": {
        "id": "0NoYzqeVgNR6"
      }
    },
    {
      "cell_type": "markdown",
      "source": [],
      "metadata": {
        "id": "2WYWKYQBgcoI"
      }
    },
    {
      "cell_type": "markdown",
      "source": [
        "**Nose** is a popular testing framework for Python that provides a lot of additional functionality compared to the built-in unittest framework. Nose is built on top of unittest, so it is fully compatible with any code written for unittest. The main goal of Nose is to make it easier to write tests and provide more control over how tests are run. Here is a step by step guide to using Nose with a simple script:\n",
        "\n",
        "Step 1: Install Nose\n",
        "To use Nose, you need to install it first. You can install it using pip:"
      ],
      "metadata": {
        "id": "S-bqnK58g7tm"
      }
    },
    {
      "cell_type": "code",
      "source": [
        "pip install nose\n"
      ],
      "metadata": {
        "colab": {
          "base_uri": "https://localhost:8080/"
        },
        "id": "99Tci6UnhAuD",
        "outputId": "52decb8e-d13d-4d00-9139-bbf1df359017"
      },
      "execution_count": 18,
      "outputs": [
        {
          "output_type": "stream",
          "name": "stdout",
          "text": [
            "Looking in indexes: https://pypi.org/simple, https://us-python.pkg.dev/colab-wheels/public/simple/\n",
            "Collecting nose\n",
            "  Downloading nose-1.3.7-py3-none-any.whl (154 kB)\n",
            "\u001b[2K     \u001b[90m━━━━━━━━━━━━━━━━━━━━━━━━━━━━━━━━━━━━━━\u001b[0m \u001b[32m154.7/154.7 KB\u001b[0m \u001b[31m11.3 MB/s\u001b[0m eta \u001b[36m0:00:00\u001b[0m\n",
            "\u001b[?25hInstalling collected packages: nose\n",
            "Successfully installed nose-1.3.7\n"
          ]
        }
      ]
    },
    {
      "cell_type": "markdown",
      "source": [
        "Step 2: Write Your Tests\n",
        "Nose works with unittest, so you can write tests just like you would with unittest. Here's a simple example of a test:"
      ],
      "metadata": {
        "id": "nlsR_9vGhDaB"
      }
    },
    {
      "cell_type": "code",
      "source": [
        "def test_example():\n",
        "    assert 1 + 1 == 2\n"
      ],
      "metadata": {
        "id": "7NXbkrUWhG0I"
      },
      "execution_count": 19,
      "outputs": []
    },
    {
      "cell_type": "markdown",
      "source": [
        "Step 3: Run Your Tests\n",
        "To run your tests using Nose, simply run the following command in the terminal:"
      ],
      "metadata": {
        "id": "Jw4AEZG5hJdB"
      }
    },
    {
      "cell_type": "code",
      "source": [
        "nosetests\n"
      ],
      "metadata": {
        "id": "EMDSi-97hMQI"
      },
      "execution_count": null,
      "outputs": []
    },
    {
      "cell_type": "markdown",
      "source": [
        "This will run all the tests in your project. If you want to run a specific test, you can provide the name of the test file:"
      ],
      "metadata": {
        "id": "HKX7Q6KghSf1"
      }
    },
    {
      "cell_type": "code",
      "source": [
        "nosetests test_example.py\n"
      ],
      "metadata": {
        "id": "oZfUpgkJhWNg"
      },
      "execution_count": null,
      "outputs": []
    },
    {
      "cell_type": "markdown",
      "source": [
        "Step 4: Customizing Test Discovery\n",
        "By default, Nose will find tests in any file that starts with \"test\" and in any module with a name that starts with \"test\". You can customize this discovery mechanism using command line options. For example, you can tell Nose to run all the tests in a specific directory:"
      ],
      "metadata": {
        "id": "A8jo2X0LhZRK"
      }
    },
    {
      "cell_type": "code",
      "source": [
        "nosetests my_tests/\n"
      ],
      "metadata": {
        "id": "4jlCJ0Fhhk7B"
      },
      "execution_count": null,
      "outputs": []
    },
    {
      "cell_type": "markdown",
      "source": [
        "Step 5: Reporting Test Results\n",
        "Nose provides several ways to view test results. By default, Nose will print a summary of the tests that ran and the number of tests that passed or failed. You can also use the \"-v\" option to get more verbose output:"
      ],
      "metadata": {
        "id": "42kJOmx9h1cB"
      }
    },
    {
      "cell_type": "code",
      "source": [
        "nosetests -v\n"
      ],
      "metadata": {
        "id": "J_-cpN3ch4Eo"
      },
      "execution_count": null,
      "outputs": []
    },
    {
      "cell_type": "markdown",
      "source": [
        "Step 6: Plugins\n",
        "Nose has a plugin system that allows you to add extra functionality. For example, there are plugins for generating test reports, for timing tests, and for capturing output from tests. To use a plugin, simply install it and add it to your nose configuration file.\n",
        "\n",
        "In conclusion, Nose is a powerful and flexible testing framework that makes it easier to write and run tests in Python. With its simple syntax and support for plugins, it's a great choice for any Python project."
      ],
      "metadata": {
        "id": "XfcRSOulh6Hh"
      }
    },
    {
      "cell_type": "markdown",
      "source": [
        "Pytest is a popular testing framework for Python that makes it easy to write and run tests for your applications. It has several features that make it a powerful tool for testing, including:\n",
        "\n",
        "1. Easy to use: Pytest uses a simple and intuitive syntax for writing tests, making it easy for developers to get started with testing their applications.\n",
        "\n",
        "2. Flexible: Pytest supports a wide range of testing styles, from simple unit tests to complex functional tests. It also supports running tests in parallel, making it easier to run large test suites.\n",
        "\n",
        "3. Modular: Pytest allows tests to be organized into modules, making it easier to manage and maintain tests over time.\n",
        "\n",
        "4. Detailed reporting: Pytest provides detailed information about test results, including test failures and error messages.\n",
        "\n",
        "Here is a simple example of how to use pytest to write and run tests:\n",
        "\n",
        "1. Create a file called test_example.py and write a test function that verifies that a given function returns the expected result:"
      ],
      "metadata": {
        "id": "e1WO8hhWh9c4"
      }
    },
    {
      "cell_type": "code",
      "source": [
        "def test_example():\n",
        "    assert add(1, 2) == 3\n"
      ],
      "metadata": {
        "id": "BJZ5nI6Rir37"
      },
      "execution_count": 21,
      "outputs": []
    },
    {
      "cell_type": "markdown",
      "source": [
        "2. Run pytest on the file using the following command in your terminal or command prompt:"
      ],
      "metadata": {
        "id": "C01ksYEAiuFv"
      }
    },
    {
      "cell_type": "code",
      "source": [
        "pytest test_example.py\n"
      ],
      "metadata": {
        "id": "GeMoWpa5iyb6"
      },
      "execution_count": null,
      "outputs": []
    },
    {
      "cell_type": "markdown",
      "source": [
        "3. Pytest will discover and run the test function and provide output indicating the test result:"
      ],
      "metadata": {
        "id": "dgl3Bfn1i0ww"
      }
    },
    {
      "cell_type": "code",
      "source": [
        "============================= test session starts ==============================\n",
        "platform darwin -- Python 3.8.5, pytest-6.2.1, py-1.9.0, pluggy-0.13.1\n",
        "rootdir: /path/to/your/project\n",
        "collected 1 item                                                              \n",
        "\n",
        "test_example.py .                                                          [100%]\n",
        "\n",
        "============================== 1 passed in 0.01s ===============================\n"
      ],
      "metadata": {
        "id": "y4KrQ440i9ld"
      },
      "execution_count": null,
      "outputs": []
    },
    {
      "cell_type": "markdown",
      "source": [
        "Note that in this example, the assert statement is used to verify the result of the add function. If the result of the add function is not equal to 3, the test will fail and pytest will provide an error message indicating the failure.\n",
        "\n",
        "This is just a simple example, but pytest provides many more features for testing your applications, including support for fixtures, parameterized tests, and test discovery."
      ],
      "metadata": {
        "id": "wKMqvb7di_dY"
      }
    }
  ]
}